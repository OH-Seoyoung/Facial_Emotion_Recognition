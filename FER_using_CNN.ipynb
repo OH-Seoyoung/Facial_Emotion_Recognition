{
 "cells": [
  {
   "cell_type": "markdown",
   "metadata": {},
   "source": [
    "## Facial emotion recognition\n",
    "- This is an ipynb file created in Kaggle environment.\n",
    "- CNN\n",
    "\n",
    "#### Dataset\n",
    "- MMA FACIAL EXPRESSION, https://www.kaggle.com/mahmoudima/mma-facial-expression"
   ]
  },
  {
   "cell_type": "markdown",
   "metadata": {},
   "source": [
    "## 0. Import Packages"
   ]
  },
  {
   "cell_type": "code",
   "execution_count": 9,
   "metadata": {
    "_cell_guid": "b1076dfc-b9ad-4769-8c92-a6c4dae69d19",
    "_uuid": "8f2839f25d086af736a60e9eeb907d3b93b6e0e5",
    "execution": {
     "iopub.execute_input": "2021-10-05T11:58:19.787071Z",
     "iopub.status.busy": "2021-10-05T11:58:19.786504Z",
     "iopub.status.idle": "2021-10-05T11:58:19.793809Z",
     "shell.execute_reply": "2021-10-05T11:58:19.793148Z",
     "shell.execute_reply.started": "2021-10-05T11:58:19.787032Z"
    }
   },
   "outputs": [],
   "source": [
    "import numpy as np\n",
    "import pandas as pd\n",
    "import matplotlib.pyplot as plt\n",
    "\n",
    "import tensorflow as tf\n",
    "from tensorflow.keras.applications import Xception\n",
    "from tensorflow.keras.applications.xception import preprocess_input\n",
    "from tensorflow.keras.preprocessing.image import ImageDataGenerator\n",
    "from tensorflow.keras.layers import Conv2D, Dense, BatchNormalization, Activation, Dropout, MaxPooling2D, Flatten\n",
    "from tensorflow.keras import Model, regularizers\n",
    "from tensorflow.keras.callbacks import ModelCheckpoint, EarlyStopping\n",
    "from tensorflow.keras.models import load_model\n",
    "import os"
   ]
  },
  {
   "cell_type": "markdown",
   "metadata": {},
   "source": [
    "## 1. Make dataset"
   ]
  },
  {
   "cell_type": "code",
   "execution_count": 10,
   "metadata": {
    "execution": {
     "iopub.execute_input": "2021-10-05T11:58:19.796060Z",
     "iopub.status.busy": "2021-10-05T11:58:19.795408Z",
     "iopub.status.idle": "2021-10-05T11:58:19.804507Z",
     "shell.execute_reply": "2021-10-05T11:58:19.803504Z",
     "shell.execute_reply.started": "2021-10-05T11:58:19.796024Z"
    }
   },
   "outputs": [],
   "source": [
    "batch_size = 128\n",
    "img_height = 64\n",
    "img_width = 64\n",
    "preprocessed_training = []\n",
    "preprocessed_validation = []"
   ]
  },
  {
   "cell_type": "code",
   "execution_count": 11,
   "metadata": {
    "execution": {
     "iopub.execute_input": "2021-10-05T11:58:19.807110Z",
     "iopub.status.busy": "2021-10-05T11:58:19.806176Z",
     "iopub.status.idle": "2021-10-05T11:58:19.814159Z",
     "shell.execute_reply": "2021-10-05T11:58:19.813290Z",
     "shell.execute_reply.started": "2021-10-05T11:58:19.806939Z"
    }
   },
   "outputs": [],
   "source": [
    "train_datagen = ImageDataGenerator(\n",
    "        preprocessing_function = preprocess_input,  ### change\n",
    "        rescale=1./255,\n",
    "        shear_range=0.2,\n",
    "        zoom_range=0.2,\n",
    "        horizontal_flip=True)\n",
    "validation_datagen = ImageDataGenerator(rescale=1./255, preprocessing_function=preprocess_input)    \n",
    "test_datagen = ImageDataGenerator(rescale=1./255, preprocessing_function=preprocess_input)"
   ]
  },
  {
   "cell_type": "code",
   "execution_count": 12,
   "metadata": {
    "execution": {
     "iopub.execute_input": "2021-10-05T11:58:19.817006Z",
     "iopub.status.busy": "2021-10-05T11:58:19.816240Z",
     "iopub.status.idle": "2021-10-05T11:58:23.124785Z",
     "shell.execute_reply": "2021-10-05T11:58:23.122893Z",
     "shell.execute_reply.started": "2021-10-05T11:58:19.816973Z"
    },
    "scrolled": true
   },
   "outputs": [
    {
     "name": "stdout",
     "output_type": "stream",
     "text": [
      "Found 92968 images belonging to 7 classes.\n",
      "Found 17356 images belonging to 7 classes.\n",
      "Found 17356 images belonging to 7 classes.\n"
     ]
    }
   ],
   "source": [
    "train_generator = train_datagen.flow_from_directory(\"/kaggle/input/mma-facial-expression/MMAFEDB/train\",\n",
    "                                                      target_size=(img_width, img_height),\n",
    "                                                      batch_size=batch_size,\n",
    "                                                      class_mode='categorical')\n",
    "validation_generator = validation_datagen.flow_from_directory(\"/kaggle/input/mma-facial-expression/MMAFEDB/valid\",\n",
    "                                                      target_size=(img_width, img_height),\n",
    "                                                      batch_size=batch_size,\n",
    "                                                      class_mode='categorical')\n",
    "test_generator = test_datagen.flow_from_directory(\"/kaggle/input/mma-facial-expression/MMAFEDB/test\",\n",
    "                                                      target_size=(img_width, img_height),\n",
    "                                                      batch_size=batch_size,\n",
    "                                                      class_mode='categorical')"
   ]
  },
  {
   "cell_type": "markdown",
   "metadata": {},
   "source": [
    "## 2. Model (CNN)"
   ]
  },
  {
   "cell_type": "code",
   "execution_count": 13,
   "metadata": {
    "execution": {
     "iopub.execute_input": "2021-10-05T11:58:23.126521Z",
     "iopub.status.busy": "2021-10-05T11:58:23.126265Z",
     "iopub.status.idle": "2021-10-05T11:58:23.132212Z",
     "shell.execute_reply": "2021-10-05T11:58:23.131351Z",
     "shell.execute_reply.started": "2021-10-05T11:58:23.126487Z"
    }
   },
   "outputs": [],
   "source": [
    "# params\n",
    "classes = 7\n",
    "nb_epoch = 50\n",
    "num_train = 92968\n",
    "num_val = 17356"
   ]
  },
  {
   "cell_type": "code",
   "execution_count": 14,
   "metadata": {
    "execution": {
     "iopub.execute_input": "2021-10-05T11:58:23.134122Z",
     "iopub.status.busy": "2021-10-05T11:58:23.133851Z",
     "iopub.status.idle": "2021-10-05T11:58:23.243012Z",
     "shell.execute_reply": "2021-10-05T11:58:23.242306Z",
     "shell.execute_reply.started": "2021-10-05T11:58:23.134089Z"
    }
   },
   "outputs": [
    {
     "name": "stdout",
     "output_type": "stream",
     "text": [
      "Model: \"sequential_1\"\n",
      "_________________________________________________________________\n",
      "Layer (type)                 Output Shape              Param #   \n",
      "=================================================================\n",
      "conv2d_4 (Conv2D)            (None, 64, 64, 32)        896       \n",
      "_________________________________________________________________\n",
      "conv2d_5 (Conv2D)            (None, 64, 64, 64)        18496     \n",
      "_________________________________________________________________\n",
      "batch_normalization_2 (Batch (None, 64, 64, 64)        256       \n",
      "_________________________________________________________________\n",
      "max_pooling2d_2 (MaxPooling2 (None, 32, 32, 64)        0         \n",
      "_________________________________________________________________\n",
      "dropout_3 (Dropout)          (None, 32, 32, 64)        0         \n",
      "_________________________________________________________________\n",
      "conv2d_6 (Conv2D)            (None, 32, 32, 128)       73856     \n",
      "_________________________________________________________________\n",
      "conv2d_7 (Conv2D)            (None, 30, 30, 256)       295168    \n",
      "_________________________________________________________________\n",
      "batch_normalization_3 (Batch (None, 30, 30, 256)       1024      \n",
      "_________________________________________________________________\n",
      "max_pooling2d_3 (MaxPooling2 (None, 15, 15, 256)       0         \n",
      "_________________________________________________________________\n",
      "dropout_4 (Dropout)          (None, 15, 15, 256)       0         \n",
      "_________________________________________________________________\n",
      "flatten_1 (Flatten)          (None, 57600)             0         \n",
      "_________________________________________________________________\n",
      "dense_2 (Dense)              (None, 1024)              58983424  \n",
      "_________________________________________________________________\n",
      "dropout_5 (Dropout)          (None, 1024)              0         \n",
      "_________________________________________________________________\n",
      "dense_3 (Dense)              (None, 7)                 7175      \n",
      "=================================================================\n",
      "Total params: 59,380,295\n",
      "Trainable params: 59,379,655\n",
      "Non-trainable params: 640\n",
      "_________________________________________________________________\n"
     ]
    }
   ],
   "source": [
    "model = tf.keras.models.Sequential()\n",
    "model.add(Conv2D(32, kernel_size=(3, 3), padding='same', activation='relu', input_shape = (img_width, img_height,3)))\n",
    "model.add(Conv2D(64, kernel_size=(3, 3), activation='relu', padding='same'))\n",
    "model.add(BatchNormalization())\n",
    "model.add(MaxPooling2D(2, 2))\n",
    "model.add(Dropout(0.25))\n",
    "\n",
    "model.add(Conv2D(128, kernel_size=(3, 3), activation='relu', padding='same', kernel_regularizer=regularizers.l2(0.01)))\n",
    "model.add(Conv2D(256, kernel_size=(3, 3), activation='relu', kernel_regularizer=regularizers.l2(0.01)))\n",
    "model.add(BatchNormalization())\n",
    "model.add(MaxPooling2D(pool_size=(2, 2)))\n",
    "model.add(Dropout(0.25))\n",
    "\n",
    "model.add(Flatten())\n",
    "model.add(Dense(1024, activation='relu'))\n",
    "model.add(Dropout(0.5))\n",
    "model.add(Dense(classes, activation='softmax'))\n",
    "\n",
    "model.summary()"
   ]
  },
  {
   "cell_type": "code",
   "execution_count": 15,
   "metadata": {
    "execution": {
     "iopub.execute_input": "2021-10-05T11:58:23.244491Z",
     "iopub.status.busy": "2021-10-05T11:58:23.244245Z",
     "iopub.status.idle": "2021-10-05T11:58:23.258732Z",
     "shell.execute_reply": "2021-10-05T11:58:23.257399Z",
     "shell.execute_reply.started": "2021-10-05T11:58:23.244460Z"
    }
   },
   "outputs": [],
   "source": [
    "model.compile(optimizer='sgd',\n",
    "              loss='categorical_crossentropy',\n",
    "              metrics=['accuracy'])"
   ]
  },
  {
   "cell_type": "markdown",
   "metadata": {},
   "source": [
    "## 3. Training"
   ]
  },
  {
   "cell_type": "code",
   "execution_count": 16,
   "metadata": {
    "execution": {
     "iopub.execute_input": "2021-10-05T11:58:23.262222Z",
     "iopub.status.busy": "2021-10-05T11:58:23.261942Z",
     "iopub.status.idle": "2021-10-05T15:57:23.333009Z",
     "shell.execute_reply": "2021-10-05T15:57:23.332265Z",
     "shell.execute_reply.started": "2021-10-05T11:58:23.262187Z"
    }
   },
   "outputs": [
    {
     "name": "stdout",
     "output_type": "stream",
     "text": [
      "Epoch 1/50\n",
      "726/726 [==============================] - 407s 560ms/step - loss: 4.0667 - accuracy: 0.3630 - val_loss: 3.7496 - val_accuracy: 0.2440\n",
      "Epoch 2/50\n",
      "726/726 [==============================] - 276s 380ms/step - loss: 3.3027 - accuracy: 0.4217 - val_loss: 3.1986 - val_accuracy: 0.3304\n",
      "Epoch 3/50\n",
      "726/726 [==============================] - 264s 364ms/step - loss: 2.8259 - accuracy: 0.4380 - val_loss: 2.7406 - val_accuracy: 0.3385\n",
      "Epoch 4/50\n",
      "726/726 [==============================] - 261s 360ms/step - loss: 2.4588 - accuracy: 0.4575 - val_loss: 2.4428 - val_accuracy: 0.3952\n",
      "Epoch 5/50\n",
      "726/726 [==============================] - 263s 362ms/step - loss: 2.1811 - accuracy: 0.4702 - val_loss: 2.1195 - val_accuracy: 0.4217\n",
      "Epoch 6/50\n",
      "726/726 [==============================] - 267s 368ms/step - loss: 1.9613 - accuracy: 0.4856 - val_loss: 2.0795 - val_accuracy: 0.3946\n",
      "Epoch 7/50\n",
      "726/726 [==============================] - 266s 366ms/step - loss: 1.7951 - accuracy: 0.4965 - val_loss: 1.9447 - val_accuracy: 0.4006\n",
      "Epoch 8/50\n",
      "726/726 [==============================] - 267s 367ms/step - loss: 1.6724 - accuracy: 0.5083 - val_loss: 1.7361 - val_accuracy: 0.4410\n",
      "Epoch 9/50\n",
      "726/726 [==============================] - 266s 366ms/step - loss: 1.5670 - accuracy: 0.5194 - val_loss: 1.7086 - val_accuracy: 0.4325\n",
      "Epoch 10/50\n",
      "726/726 [==============================] - 266s 366ms/step - loss: 1.4941 - accuracy: 0.5260 - val_loss: 1.6183 - val_accuracy: 0.4500\n",
      "Epoch 11/50\n",
      "726/726 [==============================] - 269s 370ms/step - loss: 1.4396 - accuracy: 0.5338 - val_loss: 1.6733 - val_accuracy: 0.4272\n",
      "Epoch 12/50\n",
      "726/726 [==============================] - 265s 366ms/step - loss: 1.4028 - accuracy: 0.5342 - val_loss: 1.6888 - val_accuracy: 0.4256\n",
      "Epoch 13/50\n",
      "726/726 [==============================] - 265s 365ms/step - loss: 1.3665 - accuracy: 0.5398 - val_loss: 1.5693 - val_accuracy: 0.4487\n",
      "Epoch 14/50\n",
      "726/726 [==============================] - 270s 372ms/step - loss: 1.3341 - accuracy: 0.5442 - val_loss: 1.5134 - val_accuracy: 0.4653\n",
      "Epoch 15/50\n",
      "726/726 [==============================] - 271s 374ms/step - loss: 1.3085 - accuracy: 0.5504 - val_loss: 1.5378 - val_accuracy: 0.4562\n",
      "Epoch 16/50\n",
      "726/726 [==============================] - 270s 372ms/step - loss: 1.3096 - accuracy: 0.5476 - val_loss: 1.4819 - val_accuracy: 0.4716\n",
      "Epoch 17/50\n",
      "726/726 [==============================] - 267s 367ms/step - loss: 1.2970 - accuracy: 0.5520 - val_loss: 1.4709 - val_accuracy: 0.4661\n",
      "Epoch 18/50\n",
      "726/726 [==============================] - 269s 370ms/step - loss: 1.2879 - accuracy: 0.5527 - val_loss: 1.5019 - val_accuracy: 0.4638\n",
      "Epoch 19/50\n",
      "726/726 [==============================] - 344s 473ms/step - loss: 1.2628 - accuracy: 0.5626 - val_loss: 1.4942 - val_accuracy: 0.4736\n",
      "Epoch 20/50\n",
      "726/726 [==============================] - 363s 501ms/step - loss: 1.2543 - accuracy: 0.5637 - val_loss: 1.4555 - val_accuracy: 0.4741\n",
      "Epoch 21/50\n",
      "726/726 [==============================] - 334s 460ms/step - loss: 1.2474 - accuracy: 0.5650 - val_loss: 1.4966 - val_accuracy: 0.4680\n",
      "Epoch 22/50\n",
      "726/726 [==============================] - 323s 445ms/step - loss: 1.2318 - accuracy: 0.5695 - val_loss: 1.5377 - val_accuracy: 0.4630\n",
      "Epoch 23/50\n",
      "726/726 [==============================] - 273s 376ms/step - loss: 1.2311 - accuracy: 0.5712 - val_loss: 1.4767 - val_accuracy: 0.4709\n",
      "Epoch 24/50\n",
      "726/726 [==============================] - 268s 369ms/step - loss: 1.2184 - accuracy: 0.5746 - val_loss: 1.5010 - val_accuracy: 0.4707\n",
      "Epoch 25/50\n",
      "726/726 [==============================] - 272s 375ms/step - loss: 1.2190 - accuracy: 0.5763 - val_loss: 1.4594 - val_accuracy: 0.4878\n",
      "Epoch 26/50\n",
      "726/726 [==============================] - 282s 389ms/step - loss: 1.2083 - accuracy: 0.5783 - val_loss: 1.4516 - val_accuracy: 0.4837\n",
      "Epoch 27/50\n",
      "726/726 [==============================] - 283s 390ms/step - loss: 1.1962 - accuracy: 0.5847 - val_loss: 1.4762 - val_accuracy: 0.4807\n",
      "Epoch 28/50\n",
      "726/726 [==============================] - 272s 375ms/step - loss: 1.1885 - accuracy: 0.5873 - val_loss: 1.4534 - val_accuracy: 0.4861\n",
      "Epoch 29/50\n",
      "726/726 [==============================] - 282s 389ms/step - loss: 1.1829 - accuracy: 0.5870 - val_loss: 1.4472 - val_accuracy: 0.4940\n",
      "Epoch 30/50\n",
      "726/726 [==============================] - 315s 434ms/step - loss: 1.1757 - accuracy: 0.5900 - val_loss: 1.4407 - val_accuracy: 0.4874\n",
      "Epoch 31/50\n",
      "726/726 [==============================] - 269s 371ms/step - loss: 1.1797 - accuracy: 0.5894 - val_loss: 1.7250 - val_accuracy: 0.4314\n",
      "Epoch 32/50\n",
      "726/726 [==============================] - 268s 370ms/step - loss: 1.1726 - accuracy: 0.5932 - val_loss: 1.4686 - val_accuracy: 0.4803\n",
      "Epoch 33/50\n",
      "726/726 [==============================] - 267s 368ms/step - loss: 1.1569 - accuracy: 0.5954 - val_loss: 1.4508 - val_accuracy: 0.4808\n",
      "Epoch 34/50\n",
      "726/726 [==============================] - 264s 364ms/step - loss: 1.1536 - accuracy: 0.6001 - val_loss: 1.4889 - val_accuracy: 0.4784\n",
      "Epoch 35/50\n",
      "726/726 [==============================] - 267s 368ms/step - loss: 1.1531 - accuracy: 0.5996 - val_loss: 1.4497 - val_accuracy: 0.4906\n",
      "Epoch 36/50\n",
      "726/726 [==============================] - 265s 365ms/step - loss: 1.1410 - accuracy: 0.6026 - val_loss: 1.4561 - val_accuracy: 0.4888\n",
      "Epoch 37/50\n",
      "726/726 [==============================] - 306s 422ms/step - loss: 1.1378 - accuracy: 0.6061 - val_loss: 1.4889 - val_accuracy: 0.4878\n",
      "Epoch 38/50\n",
      "726/726 [==============================] - 276s 380ms/step - loss: 1.1403 - accuracy: 0.6049 - val_loss: 1.4905 - val_accuracy: 0.4880\n",
      "Epoch 39/50\n",
      "726/726 [==============================] - 271s 374ms/step - loss: 1.1238 - accuracy: 0.6106 - val_loss: 1.4455 - val_accuracy: 0.4933\n",
      "Epoch 40/50\n",
      "726/726 [==============================] - 279s 384ms/step - loss: 1.1277 - accuracy: 0.6105 - val_loss: 1.4991 - val_accuracy: 0.4806\n",
      "Epoch 41/50\n",
      "726/726 [==============================] - 289s 398ms/step - loss: 1.1187 - accuracy: 0.6136 - val_loss: 1.4967 - val_accuracy: 0.4897\n",
      "Epoch 42/50\n",
      "726/726 [==============================] - 313s 431ms/step - loss: 1.1126 - accuracy: 0.6148 - val_loss: 1.5071 - val_accuracy: 0.4818\n",
      "Epoch 43/50\n",
      "726/726 [==============================] - 307s 422ms/step - loss: 1.1082 - accuracy: 0.6158 - val_loss: 1.4289 - val_accuracy: 0.5016\n",
      "Epoch 44/50\n",
      "726/726 [==============================] - 285s 393ms/step - loss: 1.1019 - accuracy: 0.6199 - val_loss: 1.4691 - val_accuracy: 0.4841\n",
      "Epoch 45/50\n",
      "726/726 [==============================] - 290s 399ms/step - loss: 1.0998 - accuracy: 0.6193 - val_loss: 1.4996 - val_accuracy: 0.4836\n",
      "Epoch 46/50\n",
      "726/726 [==============================] - 300s 413ms/step - loss: 1.0954 - accuracy: 0.6220 - val_loss: 1.4670 - val_accuracy: 0.4928\n",
      "Epoch 47/50\n",
      "726/726 [==============================] - 293s 404ms/step - loss: 1.0835 - accuracy: 0.6255 - val_loss: 1.4785 - val_accuracy: 0.4825\n",
      "Epoch 48/50\n",
      "726/726 [==============================] - 294s 405ms/step - loss: 1.0888 - accuracy: 0.6245 - val_loss: 1.4466 - val_accuracy: 0.4946\n",
      "Epoch 49/50\n",
      "726/726 [==============================] - 293s 403ms/step - loss: 1.0833 - accuracy: 0.6244 - val_loss: 1.4083 - val_accuracy: 0.5009\n",
      "Epoch 50/50\n",
      "726/726 [==============================] - 383s 527ms/step - loss: 1.0782 - accuracy: 0.6270 - val_loss: 1.4301 - val_accuracy: 0.5028\n"
     ]
    }
   ],
   "source": [
    "hist = model.fit(\n",
    "    train_generator,\n",
    "    epochs = nb_epoch,\n",
    "    steps_per_epoch = num_train//batch_size,\n",
    "    validation_data = validation_generator,\n",
    "    validation_steps = num_val//batch_size)"
   ]
  },
  {
   "cell_type": "code",
   "execution_count": 17,
   "metadata": {
    "execution": {
     "iopub.execute_input": "2021-10-05T15:57:23.336937Z",
     "iopub.status.busy": "2021-10-05T15:57:23.336732Z",
     "iopub.status.idle": "2021-10-05T15:57:23.799668Z",
     "shell.execute_reply": "2021-10-05T15:57:23.798950Z",
     "shell.execute_reply.started": "2021-10-05T15:57:23.336913Z"
    }
   },
   "outputs": [],
   "source": [
    "# Save model\n",
    "model.save(\"/kaggle/working/my_model.h5\")\n",
    "# model.save_weigths(\"/kaggle/working/xception_weights.h5\")\n",
    "\n",
    "my_model_json = model.to_json()\n",
    "\n",
    "with open(\"/kaggle/working/my_model.json\", \"w\") as json_file:\n",
    "    json_file.write(my_model_json)"
   ]
  },
  {
   "cell_type": "code",
   "execution_count": 18,
   "metadata": {
    "execution": {
     "iopub.execute_input": "2021-10-05T15:57:23.801310Z",
     "iopub.status.busy": "2021-10-05T15:57:23.801055Z",
     "iopub.status.idle": "2021-10-05T15:57:24.227319Z",
     "shell.execute_reply": "2021-10-05T15:57:24.226632Z",
     "shell.execute_reply.started": "2021-10-05T15:57:23.801278Z"
    }
   },
   "outputs": [],
   "source": [
    "model = load_model('/kaggle/working/my_model.h5')"
   ]
  },
  {
   "cell_type": "code",
   "execution_count": 19,
   "metadata": {
    "execution": {
     "iopub.execute_input": "2021-10-05T15:57:24.228992Z",
     "iopub.status.busy": "2021-10-05T15:57:24.228735Z",
     "iopub.status.idle": "2021-10-05T15:57:24.440021Z",
     "shell.execute_reply": "2021-10-05T15:57:24.439309Z",
     "shell.execute_reply.started": "2021-10-05T15:57:24.228959Z"
    },
    "scrolled": true
   },
   "outputs": [
    {
     "data": {
      "image/png": "[encoded data removed]",
      "text/plain": [
       "<Figure size 432x288 with 1 Axes>"
      ]
     },
     "metadata": {
      "needs_background": "light"
     },
     "output_type": "display_data"
    }
   ],
   "source": [
    "plt.plot(hist.history['accuracy'][3:50])\n",
    "plt.plot(hist.history['val_accuracy'][3:50])\n",
    "plt.title('model accuracy')\n",
    "plt.ylabel('acc')\n",
    "plt.xlabel('epoch')\n",
    "plt.legend(['train', 'val'], loc='upper left')\n",
    "plt.show()"
   ]
  },
  {
   "cell_type": "markdown",
   "metadata": {},
   "source": [
    "## 4. Evaluation"
   ]
  },
  {
   "cell_type": "code",
   "execution_count": 20,
   "metadata": {
    "execution": {
     "iopub.execute_input": "2021-10-05T15:57:24.441544Z",
     "iopub.status.busy": "2021-10-05T15:57:24.441284Z",
     "iopub.status.idle": "2021-10-05T15:58:51.185436Z",
     "shell.execute_reply": "2021-10-05T15:58:51.184742Z",
     "shell.execute_reply.started": "2021-10-05T15:57:24.441510Z"
    }
   },
   "outputs": [
    {
     "name": "stdout",
     "output_type": "stream",
     "text": [
      "-- Evaluate --\n",
      "135/135 [==============================] - 86s 637ms/step - loss: 1.3461 - accuracy: 0.5267\n",
      "accuracy: 52.67%\n"
     ]
    }
   ],
   "source": [
    "print(\"-- Evaluate --\")\n",
    "scores = model.evaluate(test_generator, steps=num_val//batch_size)\n",
    "print(\"%s: %.2f%%\" %(model.metrics_names[1], scores[1]*100))"
   ]
  },
  {
   "cell_type": "code",
   "execution_count": 21,
   "metadata": {
    "execution": {
     "iopub.execute_input": "2021-10-05T15:58:51.187250Z",
     "iopub.status.busy": "2021-10-05T15:58:51.187001Z",
     "iopub.status.idle": "2021-10-05T15:59:03.656215Z",
     "shell.execute_reply": "2021-10-05T15:59:03.655437Z",
     "shell.execute_reply.started": "2021-10-05T15:58:51.187218Z"
    }
   },
   "outputs": [
    {
     "name": "stdout",
     "output_type": "stream",
     "text": [
      "-- Predict --\n",
      "{'angry': 0, 'disgust': 1, 'fear': 2, 'happy': 3, 'neutral': 4, 'sad': 5, 'surprise': 6}\n",
      "[[0.048 0.026 0.036 ... 0.442 0.122 0.033]\n",
      " [0.006 0.023 0.002 ... 0.392 0.291 0.003]\n",
      " [0.021 0.051 0.016 ... 0.283 0.155 0.086]\n",
      " ...\n",
      " [0.043 0.108 0.043 ... 0.483 0.175 0.050]\n",
      " [0.081 0.175 0.081 ... 0.108 0.125 0.171]\n",
      " [0.019 0.014 0.008 ... 0.633 0.038 0.020]]\n"
     ]
    }
   ],
   "source": [
    "print(\"-- Predict --\")\n",
    "pred = model.predict(test_generator, steps=num_val//batch_size)\n",
    "np.set_printoptions(formatter={'float': lambda x: \"{0:0.3f}\".format(x)})\n",
    "print(test_generator.class_indices)\n",
    "print(pred)"
   ]
  },
  {
   "cell_type": "code",
   "execution_count": 22,
   "metadata": {
    "execution": {
     "iopub.execute_input": "2021-10-05T15:59:03.657910Z",
     "iopub.status.busy": "2021-10-05T15:59:03.657662Z",
     "iopub.status.idle": "2021-10-05T15:59:03.662978Z",
     "shell.execute_reply": "2021-10-05T15:59:03.662144Z",
     "shell.execute_reply.started": "2021-10-05T15:59:03.657876Z"
    }
   },
   "outputs": [],
   "source": [
    "prediction = np.argmax(pred, axis=1)"
   ]
  },
  {
   "cell_type": "code",
   "execution_count": 23,
   "metadata": {
    "execution": {
     "iopub.execute_input": "2021-10-05T15:59:03.664903Z",
     "iopub.status.busy": "2021-10-05T15:59:03.664432Z",
     "iopub.status.idle": "2021-10-05T15:59:03.674017Z",
     "shell.execute_reply": "2021-10-05T15:59:03.673219Z",
     "shell.execute_reply.started": "2021-10-05T15:59:03.664868Z"
    }
   },
   "outputs": [
    {
     "data": {
      "text/plain": [
       "{'angry': 0,\n",
       " 'disgust': 1,\n",
       " 'fear': 2,\n",
       " 'happy': 3,\n",
       " 'neutral': 4,\n",
       " 'sad': 5,\n",
       " 'surprise': 6}"
      ]
     },
     "execution_count": 23,
     "metadata": {},
     "output_type": "execute_result"
    }
   ],
   "source": [
    "test_generator.class_indices"
   ]
  },
  {
   "cell_type": "code",
   "execution_count": 24,
   "metadata": {
    "execution": {
     "iopub.execute_input": "2021-10-05T15:59:03.676056Z",
     "iopub.status.busy": "2021-10-05T15:59:03.675407Z",
     "iopub.status.idle": "2021-10-05T15:59:03.769182Z",
     "shell.execute_reply": "2021-10-05T15:59:03.768427Z",
     "shell.execute_reply.started": "2021-10-05T15:59:03.676019Z"
    }
   },
   "outputs": [
    {
     "name": "stdout",
     "output_type": "stream",
     "text": [
      "(128, 64, 64, 3) (128, 7)\n"
     ]
    }
   ],
   "source": [
    "img, label = test_generator.next()\n",
    "print(np.shape(img), np.shape(label))"
   ]
  }
 ],
 "metadata": {
  "kernelspec": {
   "display_name": "Python 3",
   "language": "python",
   "name": "python3"
  },
  "language_info": {
   "codemirror_mode": {
    "name": "ipython",
    "version": 3
   },
   "file_extension": ".py",
   "mimetype": "text/x-python",
   "name": "python",
   "nbconvert_exporter": "python",
   "pygments_lexer": "ipython3",
   "version": "3.8.8"
  }
 },
 "nbformat": 4,
 "nbformat_minor": 4
}

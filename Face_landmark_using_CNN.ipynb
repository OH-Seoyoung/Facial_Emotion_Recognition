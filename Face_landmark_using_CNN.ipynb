{
 "cells": [
  {
   "cell_type": "markdown",
   "metadata": {},
   "source": [
    "## Face landmark\n",
    "- This is an ipynb file created in Kaggle environment.\n",
    "- CNN\n",
    "\n",
    "#### Dataset\n",
    "- Face Images with Marked Landmark Points, https://www.kaggle.com/drgilermo/face-images-with-marked-landmark-points"
   ]
  },
  {
   "cell_type": "markdown",
   "metadata": {},
   "source": [
    "## 0. Import Packages"
   ]
  },
  {
   "cell_type": "code",
   "execution_count": 39,
   "metadata": {
    "execution": {
     "iopub.execute_input": "2021-10-06T07:28:12.380221Z",
     "iopub.status.busy": "2021-10-06T07:28:12.379704Z",
     "iopub.status.idle": "2021-10-06T07:28:12.387068Z",
     "shell.execute_reply": "2021-10-06T07:28:12.386047Z",
     "shell.execute_reply.started": "2021-10-06T07:28:12.380182Z"
    }
   },
   "outputs": [],
   "source": [
    "import matplotlib.pyplot as plt\n",
    "from sklearn.model_selection import train_test_split\n",
    "import tensorflow as tf\n",
    "import pandas as pd\n",
    "import numpy as np\n",
    "from tqdm.keras import TqdmCallback\n",
    "from tensorflow.keras.models import Sequential, load_model\n",
    "from tensorflow.keras.layers import Input, Conv2D, MaxPooling2D, Flatten, Dense, Dropout, LeakyReLU, BatchNormalization\n",
    "from tensorflow.keras.initializers import glorot_uniform\n",
    "from tensorflow.keras.callbacks import ModelCheckpoint\n",
    "from tensorflow.keras.optimizers import SGD, Adam"
   ]
  },
  {
   "cell_type": "markdown",
   "metadata": {},
   "source": [
    "## 1. Make dataset"
   ]
  },
  {
   "cell_type": "code",
   "execution_count": 17,
   "metadata": {
    "execution": {
     "iopub.execute_input": "2021-10-06T07:18:16.609640Z",
     "iopub.status.busy": "2021-10-06T07:18:16.608741Z",
     "iopub.status.idle": "2021-10-06T07:18:17.430241Z",
     "shell.execute_reply": "2021-10-06T07:18:17.429345Z",
     "shell.execute_reply.started": "2021-10-06T07:18:16.609599Z"
    }
   },
   "outputs": [
    {
     "name": "stdout",
     "output_type": "stream",
     "text": [
      "(7049, 96, 96, 1)\n"
     ]
    }
   ],
   "source": [
    "# let's deal with .npz type of image file\n",
    "img = np.load('/kaggle/input/face-images-with-marked-landmark-points/face_images.npz')  # class\n",
    "face = img.get(img.files[0])  # image to array (96, 96, 7049)\n",
    "face = np.moveaxis(face,-1,0)  # (7049, 96, 96)\n",
    "face = face.reshape(face.shape[0],face.shape[1],face.shape[1], 1)\n",
    "\n",
    "print(face.shape)"
   ]
  },
  {
   "cell_type": "code",
   "execution_count": 18,
   "metadata": {
    "execution": {
     "iopub.execute_input": "2021-10-06T07:18:18.553326Z",
     "iopub.status.busy": "2021-10-06T07:18:18.552700Z",
     "iopub.status.idle": "2021-10-06T07:18:18.615161Z",
     "shell.execute_reply": "2021-10-06T07:18:18.614096Z",
     "shell.execute_reply.started": "2021-10-06T07:18:18.553285Z"
    }
   },
   "outputs": [
    {
     "data": {
      "text/html": [
       "<div>\n",
       "<style scoped>\n",
       "    .dataframe tbody tr th:only-of-type {\n",
       "        vertical-align: middle;\n",
       "    }\n",
       "\n",
       "    .dataframe tbody tr th {\n",
       "        vertical-align: top;\n",
       "    }\n",
       "\n",
       "    .dataframe thead th {\n",
       "        text-align: right;\n",
       "    }\n",
       "</style>\n",
       "<table border=\"1\" class=\"dataframe\">\n",
       "  <thead>\n",
       "    <tr style=\"text-align: right;\">\n",
       "      <th></th>\n",
       "      <th>left_eye_center_x</th>\n",
       "      <th>left_eye_center_y</th>\n",
       "      <th>right_eye_center_x</th>\n",
       "      <th>right_eye_center_y</th>\n",
       "      <th>left_eye_inner_corner_x</th>\n",
       "      <th>left_eye_inner_corner_y</th>\n",
       "      <th>left_eye_outer_corner_x</th>\n",
       "      <th>left_eye_outer_corner_y</th>\n",
       "      <th>right_eye_inner_corner_x</th>\n",
       "      <th>right_eye_inner_corner_y</th>\n",
       "      <th>...</th>\n",
       "      <th>nose_tip_x</th>\n",
       "      <th>nose_tip_y</th>\n",
       "      <th>mouth_left_corner_x</th>\n",
       "      <th>mouth_left_corner_y</th>\n",
       "      <th>mouth_right_corner_x</th>\n",
       "      <th>mouth_right_corner_y</th>\n",
       "      <th>mouth_center_top_lip_x</th>\n",
       "      <th>mouth_center_top_lip_y</th>\n",
       "      <th>mouth_center_bottom_lip_x</th>\n",
       "      <th>mouth_center_bottom_lip_y</th>\n",
       "    </tr>\n",
       "  </thead>\n",
       "  <tbody>\n",
       "    <tr>\n",
       "      <th>0</th>\n",
       "      <td>66.033564</td>\n",
       "      <td>39.002274</td>\n",
       "      <td>30.227008</td>\n",
       "      <td>36.421678</td>\n",
       "      <td>59.582075</td>\n",
       "      <td>39.647423</td>\n",
       "      <td>73.130346</td>\n",
       "      <td>39.969997</td>\n",
       "      <td>36.356571</td>\n",
       "      <td>37.389402</td>\n",
       "      <td>...</td>\n",
       "      <td>44.420571</td>\n",
       "      <td>57.066803</td>\n",
       "      <td>61.195308</td>\n",
       "      <td>79.970165</td>\n",
       "      <td>28.614496</td>\n",
       "      <td>77.388992</td>\n",
       "      <td>43.312602</td>\n",
       "      <td>72.935459</td>\n",
       "      <td>43.130707</td>\n",
       "      <td>84.485774</td>\n",
       "    </tr>\n",
       "    <tr>\n",
       "      <th>1</th>\n",
       "      <td>64.332936</td>\n",
       "      <td>34.970077</td>\n",
       "      <td>29.949277</td>\n",
       "      <td>33.448715</td>\n",
       "      <td>58.856170</td>\n",
       "      <td>35.274349</td>\n",
       "      <td>70.722723</td>\n",
       "      <td>36.187166</td>\n",
       "      <td>36.034723</td>\n",
       "      <td>34.361532</td>\n",
       "      <td>...</td>\n",
       "      <td>48.206298</td>\n",
       "      <td>55.660936</td>\n",
       "      <td>56.421447</td>\n",
       "      <td>76.352000</td>\n",
       "      <td>35.122383</td>\n",
       "      <td>76.047660</td>\n",
       "      <td>46.684596</td>\n",
       "      <td>70.266553</td>\n",
       "      <td>45.467915</td>\n",
       "      <td>85.480170</td>\n",
       "    </tr>\n",
       "    <tr>\n",
       "      <th>2</th>\n",
       "      <td>65.057053</td>\n",
       "      <td>34.909642</td>\n",
       "      <td>30.903789</td>\n",
       "      <td>34.909642</td>\n",
       "      <td>59.412000</td>\n",
       "      <td>36.320968</td>\n",
       "      <td>70.984421</td>\n",
       "      <td>36.320968</td>\n",
       "      <td>37.678105</td>\n",
       "      <td>36.320968</td>\n",
       "      <td>...</td>\n",
       "      <td>47.557263</td>\n",
       "      <td>53.538947</td>\n",
       "      <td>60.822947</td>\n",
       "      <td>73.014316</td>\n",
       "      <td>33.726316</td>\n",
       "      <td>72.732000</td>\n",
       "      <td>47.274947</td>\n",
       "      <td>70.191789</td>\n",
       "      <td>47.274947</td>\n",
       "      <td>78.659368</td>\n",
       "    </tr>\n",
       "    <tr>\n",
       "      <th>3</th>\n",
       "      <td>65.225739</td>\n",
       "      <td>37.261774</td>\n",
       "      <td>32.023096</td>\n",
       "      <td>37.261774</td>\n",
       "      <td>60.003339</td>\n",
       "      <td>39.127179</td>\n",
       "      <td>72.314713</td>\n",
       "      <td>38.380967</td>\n",
       "      <td>37.618643</td>\n",
       "      <td>38.754115</td>\n",
       "      <td>...</td>\n",
       "      <td>51.885078</td>\n",
       "      <td>54.166539</td>\n",
       "      <td>65.598887</td>\n",
       "      <td>72.703722</td>\n",
       "      <td>37.245496</td>\n",
       "      <td>74.195478</td>\n",
       "      <td>50.303165</td>\n",
       "      <td>70.091687</td>\n",
       "      <td>51.561183</td>\n",
       "      <td>78.268383</td>\n",
       "    </tr>\n",
       "    <tr>\n",
       "      <th>4</th>\n",
       "      <td>66.725301</td>\n",
       "      <td>39.621261</td>\n",
       "      <td>32.244810</td>\n",
       "      <td>38.042032</td>\n",
       "      <td>58.565890</td>\n",
       "      <td>39.621261</td>\n",
       "      <td>72.515926</td>\n",
       "      <td>39.884466</td>\n",
       "      <td>36.982380</td>\n",
       "      <td>39.094852</td>\n",
       "      <td>...</td>\n",
       "      <td>43.299534</td>\n",
       "      <td>64.889521</td>\n",
       "      <td>60.671411</td>\n",
       "      <td>77.523239</td>\n",
       "      <td>31.191755</td>\n",
       "      <td>76.997301</td>\n",
       "      <td>44.962748</td>\n",
       "      <td>73.707387</td>\n",
       "      <td>44.227141</td>\n",
       "      <td>86.871166</td>\n",
       "    </tr>\n",
       "  </tbody>\n",
       "</table>\n",
       "<p>5 rows × 30 columns</p>\n",
       "</div>"
      ],
      "text/plain": [
       "   left_eye_center_x  left_eye_center_y  right_eye_center_x  \\\n",
       "0          66.033564          39.002274           30.227008   \n",
       "1          64.332936          34.970077           29.949277   \n",
       "2          65.057053          34.909642           30.903789   \n",
       "3          65.225739          37.261774           32.023096   \n",
       "4          66.725301          39.621261           32.244810   \n",
       "\n",
       "   right_eye_center_y  left_eye_inner_corner_x  left_eye_inner_corner_y  \\\n",
       "0           36.421678                59.582075                39.647423   \n",
       "1           33.448715                58.856170                35.274349   \n",
       "2           34.909642                59.412000                36.320968   \n",
       "3           37.261774                60.003339                39.127179   \n",
       "4           38.042032                58.565890                39.621261   \n",
       "\n",
       "   left_eye_outer_corner_x  left_eye_outer_corner_y  right_eye_inner_corner_x  \\\n",
       "0                73.130346                39.969997                 36.356571   \n",
       "1                70.722723                36.187166                 36.034723   \n",
       "2                70.984421                36.320968                 37.678105   \n",
       "3                72.314713                38.380967                 37.618643   \n",
       "4                72.515926                39.884466                 36.982380   \n",
       "\n",
       "   right_eye_inner_corner_y  ...  nose_tip_x  nose_tip_y  mouth_left_corner_x  \\\n",
       "0                 37.389402  ...   44.420571   57.066803            61.195308   \n",
       "1                 34.361532  ...   48.206298   55.660936            56.421447   \n",
       "2                 36.320968  ...   47.557263   53.538947            60.822947   \n",
       "3                 38.754115  ...   51.885078   54.166539            65.598887   \n",
       "4                 39.094852  ...   43.299534   64.889521            60.671411   \n",
       "\n",
       "   mouth_left_corner_y  mouth_right_corner_x  mouth_right_corner_y  \\\n",
       "0            79.970165             28.614496             77.388992   \n",
       "1            76.352000             35.122383             76.047660   \n",
       "2            73.014316             33.726316             72.732000   \n",
       "3            72.703722             37.245496             74.195478   \n",
       "4            77.523239             31.191755             76.997301   \n",
       "\n",
       "   mouth_center_top_lip_x  mouth_center_top_lip_y  mouth_center_bottom_lip_x  \\\n",
       "0               43.312602               72.935459                  43.130707   \n",
       "1               46.684596               70.266553                  45.467915   \n",
       "2               47.274947               70.191789                  47.274947   \n",
       "3               50.303165               70.091687                  51.561183   \n",
       "4               44.962748               73.707387                  44.227141   \n",
       "\n",
       "   mouth_center_bottom_lip_y  \n",
       "0                  84.485774  \n",
       "1                  85.480170  \n",
       "2                  78.659368  \n",
       "3                  78.268383  \n",
       "4                  86.871166  \n",
       "\n",
       "[5 rows x 30 columns]"
      ]
     },
     "execution_count": 18,
     "metadata": {},
     "output_type": "execute_result"
    }
   ],
   "source": [
    "key_pts = pd.read_csv('/kaggle/input/face-images-with-marked-landmark-points/facial_keypoints.csv')\n",
    "key_pts.head()"
   ]
  },
  {
   "cell_type": "code",
   "execution_count": 19,
   "metadata": {
    "execution": {
     "iopub.execute_input": "2021-10-06T07:18:21.530569Z",
     "iopub.status.busy": "2021-10-06T07:18:21.530259Z",
     "iopub.status.idle": "2021-10-06T07:18:21.535710Z",
     "shell.execute_reply": "2021-10-06T07:18:21.534883Z",
     "shell.execute_reply.started": "2021-10-06T07:18:21.530538Z"
    }
   },
   "outputs": [
    {
     "name": "stdout",
     "output_type": "stream",
     "text": [
      "(7049, 30)\n"
     ]
    }
   ],
   "source": [
    "print(key_pts.shape)"
   ]
  },
  {
   "cell_type": "code",
   "execution_count": 20,
   "metadata": {
    "execution": {
     "iopub.execute_input": "2021-10-06T07:18:22.223539Z",
     "iopub.status.busy": "2021-10-06T07:18:22.222953Z",
     "iopub.status.idle": "2021-10-06T07:18:22.229421Z",
     "shell.execute_reply": "2021-10-06T07:18:22.228438Z",
     "shell.execute_reply.started": "2021-10-06T07:18:22.223504Z"
    }
   },
   "outputs": [],
   "source": [
    "key_pts = key_pts.fillna(0)"
   ]
  },
  {
   "cell_type": "code",
   "execution_count": 21,
   "metadata": {
    "execution": {
     "iopub.execute_input": "2021-10-06T07:18:23.400500Z",
     "iopub.status.busy": "2021-10-06T07:18:23.399884Z",
     "iopub.status.idle": "2021-10-06T07:18:23.409415Z",
     "shell.execute_reply": "2021-10-06T07:18:23.408408Z",
     "shell.execute_reply.started": "2021-10-06T07:18:23.400466Z"
    }
   },
   "outputs": [
    {
     "data": {
      "text/plain": [
       "array([   0,    1,    2, ..., 7046, 7047, 7048])"
      ]
     },
     "execution_count": 21,
     "metadata": {},
     "output_type": "execute_result"
    }
   ],
   "source": [
    "key_pts.index.values"
   ]
  },
  {
   "cell_type": "code",
   "execution_count": 22,
   "metadata": {
    "execution": {
     "iopub.execute_input": "2021-10-06T07:18:36.709607Z",
     "iopub.status.busy": "2021-10-06T07:18:36.708766Z",
     "iopub.status.idle": "2021-10-06T07:18:37.153568Z",
     "shell.execute_reply": "2021-10-06T07:18:37.152618Z",
     "shell.execute_reply.started": "2021-10-06T07:18:36.709564Z"
    }
   },
   "outputs": [
    {
     "data": {
      "text/plain": [
       "(7049, 96, 96, 1)"
      ]
     },
     "execution_count": 22,
     "metadata": {},
     "output_type": "execute_result"
    }
   ],
   "source": [
    "features = face[key_pts.index.values, :, :, :]\n",
    "features = features/255  # normalize\n",
    "key_pts.reset_index(inplace=True,drop=True)\n",
    "features.shape"
   ]
  },
  {
   "cell_type": "code",
   "execution_count": 23,
   "metadata": {
    "execution": {
     "iopub.execute_input": "2021-10-06T07:18:44.029905Z",
     "iopub.status.busy": "2021-10-06T07:18:44.029131Z",
     "iopub.status.idle": "2021-10-06T07:18:44.364308Z",
     "shell.execute_reply": "2021-10-06T07:18:44.363418Z",
     "shell.execute_reply.started": "2021-10-06T07:18:44.029858Z"
    }
   },
   "outputs": [
    {
     "data": {
      "image/png": "[encoded data removed]",
      "text/plain": [
       "<Figure size 432x288 with 1 Axes>"
      ]
     },
     "metadata": {
      "needs_background": "light"
     },
     "output_type": "display_data"
    }
   ],
   "source": [
    "# visualization\n",
    "ind = 10\n",
    "plt.imshow(features[ind,:,:,0],cmap='gray')\n",
    "plt.scatter(key_pts.iloc[ind][0:-1:2], key_pts.iloc[ind][1::2], c='y')\n",
    "plt.axis('off')\n",
    "plt.show()"
   ]
  },
  {
   "cell_type": "code",
   "execution_count": 24,
   "metadata": {
    "execution": {
     "iopub.execute_input": "2021-10-06T07:19:11.372987Z",
     "iopub.status.busy": "2021-10-06T07:19:11.372637Z",
     "iopub.status.idle": "2021-10-06T07:19:11.543789Z",
     "shell.execute_reply": "2021-10-06T07:19:11.542965Z",
     "shell.execute_reply.started": "2021-10-06T07:19:11.372953Z"
    }
   },
   "outputs": [],
   "source": [
    "x_train, x_test, y_train, y_test = train_test_split(features, key_pts, test_size = 0.2)"
   ]
  },
  {
   "cell_type": "markdown",
   "metadata": {},
   "source": [
    "## 2. Model (CNN)"
   ]
  },
  {
   "cell_type": "code",
   "execution_count": 76,
   "metadata": {
    "execution": {
     "iopub.execute_input": "2021-10-06T07:43:34.770769Z",
     "iopub.status.busy": "2021-10-06T07:43:34.770488Z",
     "iopub.status.idle": "2021-10-06T07:43:34.778100Z",
     "shell.execute_reply": "2021-10-06T07:43:34.777270Z",
     "shell.execute_reply.started": "2021-10-06T07:43:34.770738Z"
    }
   },
   "outputs": [],
   "source": [
    "# params\n",
    "img_size = 96\n",
    "batch_size = 32\n",
    "epochs = 200"
   ]
  },
  {
   "cell_type": "code",
   "execution_count": 77,
   "metadata": {
    "execution": {
     "iopub.execute_input": "2021-10-06T07:43:34.928741Z",
     "iopub.status.busy": "2021-10-06T07:43:34.928454Z",
     "iopub.status.idle": "2021-10-06T07:43:35.077009Z",
     "shell.execute_reply": "2021-10-06T07:43:35.076161Z",
     "shell.execute_reply.started": "2021-10-06T07:43:34.928710Z"
    }
   },
   "outputs": [],
   "source": [
    "model = Sequential()\n",
    "\n",
    "model.add(Input(shape=(img_size, img_size, 1)))\n",
    "\n",
    "model.add(BatchNormalization())\n",
    "model.add(Conv2D(32, (3,3), padding=\"same\"))\n",
    "model.add(LeakyReLU(alpha = 0.1))\n",
    "model.add(MaxPooling2D(pool_size=(2, 2)))\n",
    "model.add(Dropout(0.2))\n",
    "\n",
    "model.add(BatchNormalization())\n",
    "model.add(Conv2D(64, (3,3), padding=\"same\"))\n",
    "model.add(LeakyReLU(alpha = 0.1))\n",
    "model.add(MaxPooling2D(pool_size=(2, 2)))\n",
    "model.add(Dropout(0.2))\n",
    "\n",
    "model.add(BatchNormalization())\n",
    "model.add(Conv2D(128, (3,3), padding=\"same\"))\n",
    "model.add(LeakyReLU(alpha = 0.1))\n",
    "model.add(MaxPooling2D(pool_size=(2, 2)))\n",
    "model.add(Dropout(0.2))\n",
    "\n",
    "model.add(Flatten())\n",
    "model.add(Dense(256))\n",
    "model.add(LeakyReLU(alpha = 0.1))\n",
    "model.add(Dropout(0.5))\n",
    "\n",
    "model.add(Dense(64))\n",
    "model.add(LeakyReLU(alpha = 0.1))\n",
    "model.add(Dense(30))"
   ]
  },
  {
   "cell_type": "code",
   "execution_count": 78,
   "metadata": {
    "execution": {
     "iopub.execute_input": "2021-10-06T07:43:35.092497Z",
     "iopub.status.busy": "2021-10-06T07:43:35.091733Z",
     "iopub.status.idle": "2021-10-06T07:43:35.113285Z",
     "shell.execute_reply": "2021-10-06T07:43:35.112349Z",
     "shell.execute_reply.started": "2021-10-06T07:43:35.092452Z"
    }
   },
   "outputs": [
    {
     "name": "stdout",
     "output_type": "stream",
     "text": [
      "Model: \"sequential_11\"\n",
      "_________________________________________________________________\n",
      "Layer (type)                 Output Shape              Param #   \n",
      "=================================================================\n",
      "batch_normalization_24 (Batc (None, 96, 96, 1)         4         \n",
      "_________________________________________________________________\n",
      "conv2d_21 (Conv2D)           (None, 96, 96, 32)        320       \n",
      "_________________________________________________________________\n",
      "leaky_re_lu_10 (LeakyReLU)   (None, 96, 96, 32)        0         \n",
      "_________________________________________________________________\n",
      "max_pooling2d_21 (MaxPooling (None, 48, 48, 32)        0         \n",
      "_________________________________________________________________\n",
      "dropout_28 (Dropout)         (None, 48, 48, 32)        0         \n",
      "_________________________________________________________________\n",
      "batch_normalization_25 (Batc (None, 48, 48, 32)        128       \n",
      "_________________________________________________________________\n",
      "conv2d_22 (Conv2D)           (None, 48, 48, 64)        18496     \n",
      "_________________________________________________________________\n",
      "leaky_re_lu_11 (LeakyReLU)   (None, 48, 48, 64)        0         \n",
      "_________________________________________________________________\n",
      "max_pooling2d_22 (MaxPooling (None, 24, 24, 64)        0         \n",
      "_________________________________________________________________\n",
      "dropout_29 (Dropout)         (None, 24, 24, 64)        0         \n",
      "_________________________________________________________________\n",
      "batch_normalization_26 (Batc (None, 24, 24, 64)        256       \n",
      "_________________________________________________________________\n",
      "conv2d_23 (Conv2D)           (None, 24, 24, 128)       73856     \n",
      "_________________________________________________________________\n",
      "leaky_re_lu_12 (LeakyReLU)   (None, 24, 24, 128)       0         \n",
      "_________________________________________________________________\n",
      "max_pooling2d_23 (MaxPooling (None, 12, 12, 128)       0         \n",
      "_________________________________________________________________\n",
      "dropout_30 (Dropout)         (None, 12, 12, 128)       0         \n",
      "_________________________________________________________________\n",
      "flatten_7 (Flatten)          (None, 18432)             0         \n",
      "_________________________________________________________________\n",
      "dense_21 (Dense)             (None, 256)               4718848   \n",
      "_________________________________________________________________\n",
      "leaky_re_lu_13 (LeakyReLU)   (None, 256)               0         \n",
      "_________________________________________________________________\n",
      "dropout_31 (Dropout)         (None, 256)               0         \n",
      "_________________________________________________________________\n",
      "dense_22 (Dense)             (None, 64)                16448     \n",
      "_________________________________________________________________\n",
      "leaky_re_lu_14 (LeakyReLU)   (None, 64)                0         \n",
      "_________________________________________________________________\n",
      "dense_23 (Dense)             (None, 30)                1950      \n",
      "=================================================================\n",
      "Total params: 4,830,306\n",
      "Trainable params: 4,830,112\n",
      "Non-trainable params: 194\n",
      "_________________________________________________________________\n"
     ]
    }
   ],
   "source": [
    "model.summary()"
   ]
  },
  {
   "cell_type": "code",
   "execution_count": 79,
   "metadata": {
    "execution": {
     "iopub.execute_input": "2021-10-06T07:43:35.759634Z",
     "iopub.status.busy": "2021-10-06T07:43:35.759333Z",
     "iopub.status.idle": "2021-10-06T07:43:35.778677Z",
     "shell.execute_reply": "2021-10-06T07:43:35.777724Z",
     "shell.execute_reply.started": "2021-10-06T07:43:35.759604Z"
    }
   },
   "outputs": [],
   "source": [
    "model.compile(loss = 'mean_squared_error', optimizer = Adam(), \n",
    "              metrics=['mean_squared_error'])"
   ]
  },
  {
   "cell_type": "markdown",
   "metadata": {},
   "source": [
    "## 3. Training"
   ]
  },
  {
   "cell_type": "code",
   "execution_count": 80,
   "metadata": {
    "execution": {
     "iopub.execute_input": "2021-10-06T07:43:37.219893Z",
     "iopub.status.busy": "2021-10-06T07:43:37.219578Z",
     "iopub.status.idle": "2021-10-06T07:50:59.454159Z",
     "shell.execute_reply": "2021-10-06T07:50:59.453265Z",
     "shell.execute_reply.started": "2021-10-06T07:43:37.219839Z"
    }
   },
   "outputs": [
    {
     "name": "stdout",
     "output_type": "stream",
     "text": [
      "Epoch 1/200\n",
      "177/177 [==============================] - 3s 14ms/step - loss: 504.1749 - mean_squared_error: 504.1749 - val_loss: 743.0502 - val_mean_squared_error: 743.0502\n",
      "Epoch 2/200\n",
      "177/177 [==============================] - 2s 12ms/step - loss: 240.4330 - mean_squared_error: 240.4330 - val_loss: 687.4585 - val_mean_squared_error: 687.4585\n",
      "Epoch 3/200\n",
      "177/177 [==============================] - 2s 13ms/step - loss: 198.1432 - mean_squared_error: 198.1432 - val_loss: 328.5437 - val_mean_squared_error: 328.5437\n",
      "Epoch 4/200\n",
      "177/177 [==============================] - 2s 12ms/step - loss: 161.6781 - mean_squared_error: 161.6781 - val_loss: 186.0420 - val_mean_squared_error: 186.0420\n",
      "Epoch 5/200\n",
      "177/177 [==============================] - 2s 12ms/step - loss: 146.7092 - mean_squared_error: 146.7092 - val_loss: 189.6750 - val_mean_squared_error: 189.6750\n",
      "Epoch 6/200\n",
      "177/177 [==============================] - 2s 14ms/step - loss: 130.9574 - mean_squared_error: 130.9574 - val_loss: 152.0472 - val_mean_squared_error: 152.0472\n",
      "Epoch 7/200\n",
      "177/177 [==============================] - 2s 13ms/step - loss: 112.2448 - mean_squared_error: 112.2448 - val_loss: 139.3825 - val_mean_squared_error: 139.3825\n",
      "Epoch 8/200\n",
      "177/177 [==============================] - 2s 12ms/step - loss: 95.8355 - mean_squared_error: 95.8355 - val_loss: 141.5072 - val_mean_squared_error: 141.5072\n",
      "Epoch 9/200\n",
      "177/177 [==============================] - 2s 12ms/step - loss: 81.6418 - mean_squared_error: 81.6418 - val_loss: 178.9297 - val_mean_squared_error: 178.9297\n",
      "Epoch 10/200\n",
      "177/177 [==============================] - 2s 12ms/step - loss: 71.8361 - mean_squared_error: 71.8361 - val_loss: 139.0694 - val_mean_squared_error: 139.0694\n",
      "Epoch 11/200\n",
      "177/177 [==============================] - 2s 12ms/step - loss: 64.2898 - mean_squared_error: 64.2898 - val_loss: 131.9409 - val_mean_squared_error: 131.9409\n",
      "Epoch 12/200\n",
      "177/177 [==============================] - 2s 13ms/step - loss: 69.4234 - mean_squared_error: 69.4234 - val_loss: 119.2734 - val_mean_squared_error: 119.2734\n",
      "Epoch 13/200\n",
      "177/177 [==============================] - 2s 12ms/step - loss: 56.9860 - mean_squared_error: 56.9860 - val_loss: 133.9772 - val_mean_squared_error: 133.9772\n",
      "Epoch 14/200\n",
      "177/177 [==============================] - 2s 12ms/step - loss: 54.4160 - mean_squared_error: 54.4160 - val_loss: 124.3451 - val_mean_squared_error: 124.3451\n",
      "Epoch 15/200\n",
      "177/177 [==============================] - 2s 12ms/step - loss: 50.5856 - mean_squared_error: 50.5856 - val_loss: 124.7669 - val_mean_squared_error: 124.7669\n",
      "Epoch 16/200\n",
      "177/177 [==============================] - 2s 12ms/step - loss: 45.3083 - mean_squared_error: 45.3083 - val_loss: 150.4671 - val_mean_squared_error: 150.4671\n",
      "Epoch 17/200\n",
      "177/177 [==============================] - 2s 13ms/step - loss: 43.2769 - mean_squared_error: 43.2769 - val_loss: 129.1808 - val_mean_squared_error: 129.1808\n",
      "Epoch 18/200\n",
      "177/177 [==============================] - 2s 12ms/step - loss: 37.4703 - mean_squared_error: 37.4703 - val_loss: 126.9761 - val_mean_squared_error: 126.9761\n",
      "Epoch 19/200\n",
      "177/177 [==============================] - 2s 12ms/step - loss: 39.1110 - mean_squared_error: 39.1110 - val_loss: 149.8760 - val_mean_squared_error: 149.8760\n",
      "Epoch 20/200\n",
      "177/177 [==============================] - 2s 12ms/step - loss: 39.6941 - mean_squared_error: 39.6941 - val_loss: 131.8093 - val_mean_squared_error: 131.8093\n",
      "Epoch 21/200\n",
      "177/177 [==============================] - 3s 14ms/step - loss: 35.0437 - mean_squared_error: 35.0437 - val_loss: 136.7556 - val_mean_squared_error: 136.7556\n",
      "Epoch 22/200\n",
      "177/177 [==============================] - 2s 13ms/step - loss: 35.8785 - mean_squared_error: 35.8785 - val_loss: 147.3563 - val_mean_squared_error: 147.3563\n",
      "Epoch 23/200\n",
      "177/177 [==============================] - 2s 12ms/step - loss: 45.2120 - mean_squared_error: 45.2120 - val_loss: 130.4440 - val_mean_squared_error: 130.4440\n",
      "Epoch 24/200\n",
      "177/177 [==============================] - 2s 12ms/step - loss: 40.2902 - mean_squared_error: 40.2902 - val_loss: 141.6907 - val_mean_squared_error: 141.6907\n",
      "Epoch 25/200\n",
      "177/177 [==============================] - 2s 12ms/step - loss: 32.9245 - mean_squared_error: 32.9245 - val_loss: 128.3059 - val_mean_squared_error: 128.3059\n",
      "Epoch 26/200\n",
      "177/177 [==============================] - 2s 12ms/step - loss: 29.9400 - mean_squared_error: 29.9400 - val_loss: 139.2805 - val_mean_squared_error: 139.2805\n",
      "Epoch 27/200\n",
      "177/177 [==============================] - 2s 13ms/step - loss: 31.8337 - mean_squared_error: 31.8337 - val_loss: 142.2433 - val_mean_squared_error: 142.2433\n",
      "Epoch 28/200\n",
      "177/177 [==============================] - 2s 12ms/step - loss: 32.1369 - mean_squared_error: 32.1369 - val_loss: 138.3387 - val_mean_squared_error: 138.3387\n",
      "Epoch 29/200\n",
      "177/177 [==============================] - 2s 12ms/step - loss: 32.5270 - mean_squared_error: 32.5270 - val_loss: 151.8562 - val_mean_squared_error: 151.8562\n",
      "Epoch 30/200\n",
      "177/177 [==============================] - 2s 12ms/step - loss: 32.6093 - mean_squared_error: 32.6093 - val_loss: 128.3239 - val_mean_squared_error: 128.3239\n",
      "Epoch 31/200\n",
      "177/177 [==============================] - 2s 12ms/step - loss: 29.7413 - mean_squared_error: 29.7413 - val_loss: 134.2410 - val_mean_squared_error: 134.2410\n",
      "Epoch 32/200\n",
      "177/177 [==============================] - 2s 13ms/step - loss: 31.3222 - mean_squared_error: 31.3222 - val_loss: 133.3382 - val_mean_squared_error: 133.3382\n",
      "Epoch 33/200\n",
      "177/177 [==============================] - 2s 12ms/step - loss: 27.0378 - mean_squared_error: 27.0378 - val_loss: 134.4669 - val_mean_squared_error: 134.4669\n",
      "Epoch 34/200\n",
      "177/177 [==============================] - 2s 12ms/step - loss: 28.8991 - mean_squared_error: 28.8991 - val_loss: 136.8944 - val_mean_squared_error: 136.8944\n",
      "Epoch 35/200\n",
      "177/177 [==============================] - 2s 12ms/step - loss: 29.1092 - mean_squared_error: 29.1092 - val_loss: 130.3257 - val_mean_squared_error: 130.3257\n",
      "Epoch 36/200\n",
      "177/177 [==============================] - 2s 14ms/step - loss: 28.2767 - mean_squared_error: 28.2767 - val_loss: 125.7042 - val_mean_squared_error: 125.7042\n",
      "Epoch 37/200\n",
      "177/177 [==============================] - 2s 13ms/step - loss: 26.8499 - mean_squared_error: 26.8499 - val_loss: 127.9350 - val_mean_squared_error: 127.9350\n",
      "Epoch 38/200\n",
      "177/177 [==============================] - 2s 12ms/step - loss: 36.2045 - mean_squared_error: 36.2045 - val_loss: 125.2053 - val_mean_squared_error: 125.2053\n",
      "Epoch 39/200\n",
      "177/177 [==============================] - 2s 12ms/step - loss: 28.6195 - mean_squared_error: 28.6195 - val_loss: 135.2931 - val_mean_squared_error: 135.2931\n",
      "Epoch 40/200\n",
      "177/177 [==============================] - 2s 12ms/step - loss: 25.9329 - mean_squared_error: 25.9329 - val_loss: 134.1304 - val_mean_squared_error: 134.1304\n",
      "Epoch 41/200\n",
      "177/177 [==============================] - 2s 12ms/step - loss: 28.1770 - mean_squared_error: 28.1770 - val_loss: 130.2390 - val_mean_squared_error: 130.2390\n",
      "Epoch 42/200\n",
      "177/177 [==============================] - 2s 13ms/step - loss: 28.0704 - mean_squared_error: 28.0704 - val_loss: 129.4263 - val_mean_squared_error: 129.4263\n",
      "Epoch 43/200\n",
      "177/177 [==============================] - 2s 12ms/step - loss: 29.9834 - mean_squared_error: 29.9834 - val_loss: 132.2639 - val_mean_squared_error: 132.2639\n",
      "Epoch 44/200\n",
      "177/177 [==============================] - 2s 12ms/step - loss: 30.4014 - mean_squared_error: 30.4014 - val_loss: 129.4706 - val_mean_squared_error: 129.4706\n",
      "Epoch 45/200\n",
      "177/177 [==============================] - 2s 12ms/step - loss: 30.0909 - mean_squared_error: 30.0909 - val_loss: 122.4753 - val_mean_squared_error: 122.4753\n",
      "Epoch 46/200\n",
      "177/177 [==============================] - 2s 12ms/step - loss: 26.2623 - mean_squared_error: 26.2623 - val_loss: 140.9904 - val_mean_squared_error: 140.9904\n",
      "Epoch 47/200\n",
      "177/177 [==============================] - 2s 13ms/step - loss: 30.6107 - mean_squared_error: 30.6107 - val_loss: 141.3648 - val_mean_squared_error: 141.3648\n",
      "Epoch 48/200\n",
      "177/177 [==============================] - 2s 12ms/step - loss: 25.9259 - mean_squared_error: 25.9259 - val_loss: 130.4281 - val_mean_squared_error: 130.4281\n",
      "Epoch 49/200\n",
      "177/177 [==============================] - 2s 12ms/step - loss: 24.4592 - mean_squared_error: 24.4592 - val_loss: 130.0703 - val_mean_squared_error: 130.0703\n",
      "Epoch 50/200\n",
      "177/177 [==============================] - 2s 12ms/step - loss: 28.3100 - mean_squared_error: 28.3100 - val_loss: 141.8424 - val_mean_squared_error: 141.8424\n",
      "Epoch 51/200\n",
      "177/177 [==============================] - 2s 13ms/step - loss: 28.2918 - mean_squared_error: 28.2918 - val_loss: 141.4720 - val_mean_squared_error: 141.4720\n",
      "Epoch 52/200\n",
      "177/177 [==============================] - 2s 13ms/step - loss: 25.9476 - mean_squared_error: 25.9476 - val_loss: 136.7905 - val_mean_squared_error: 136.7905\n",
      "Epoch 53/200\n",
      "177/177 [==============================] - 2s 12ms/step - loss: 23.5362 - mean_squared_error: 23.5362 - val_loss: 142.0280 - val_mean_squared_error: 142.0280\n",
      "Epoch 54/200\n",
      "177/177 [==============================] - 2s 12ms/step - loss: 24.7650 - mean_squared_error: 24.7650 - val_loss: 138.0698 - val_mean_squared_error: 138.0698\n",
      "Epoch 55/200\n",
      "177/177 [==============================] - 2s 12ms/step - loss: 27.4824 - mean_squared_error: 27.4824 - val_loss: 127.1498 - val_mean_squared_error: 127.1498\n",
      "Epoch 56/200\n",
      "177/177 [==============================] - 2s 12ms/step - loss: 24.9507 - mean_squared_error: 24.9507 - val_loss: 149.0054 - val_mean_squared_error: 149.0054\n",
      "Epoch 57/200\n",
      "177/177 [==============================] - 2s 13ms/step - loss: 26.0679 - mean_squared_error: 26.0679 - val_loss: 134.1307 - val_mean_squared_error: 134.1307\n",
      "Epoch 58/200\n",
      "177/177 [==============================] - 2s 12ms/step - loss: 21.9248 - mean_squared_error: 21.9248 - val_loss: 128.1149 - val_mean_squared_error: 128.1149\n",
      "Epoch 59/200\n",
      "177/177 [==============================] - 2s 12ms/step - loss: 22.3655 - mean_squared_error: 22.3655 - val_loss: 129.1973 - val_mean_squared_error: 129.1973\n",
      "Epoch 60/200\n",
      "177/177 [==============================] - 2s 12ms/step - loss: 19.6113 - mean_squared_error: 19.6113 - val_loss: 132.1925 - val_mean_squared_error: 132.1925\n",
      "Epoch 61/200\n",
      "177/177 [==============================] - 2s 12ms/step - loss: 27.3977 - mean_squared_error: 27.3977 - val_loss: 132.4437 - val_mean_squared_error: 132.4437\n",
      "Epoch 62/200\n",
      "177/177 [==============================] - 2s 13ms/step - loss: 27.2173 - mean_squared_error: 27.2173 - val_loss: 129.0076 - val_mean_squared_error: 129.0076\n",
      "Epoch 63/200\n",
      "177/177 [==============================] - 2s 12ms/step - loss: 24.5353 - mean_squared_error: 24.5353 - val_loss: 127.6040 - val_mean_squared_error: 127.6040\n",
      "Epoch 64/200\n",
      "177/177 [==============================] - 2s 12ms/step - loss: 24.9252 - mean_squared_error: 24.9252 - val_loss: 127.7850 - val_mean_squared_error: 127.7850\n",
      "Epoch 65/200\n",
      "177/177 [==============================] - 2s 12ms/step - loss: 24.3019 - mean_squared_error: 24.3019 - val_loss: 135.6466 - val_mean_squared_error: 135.6466\n",
      "Epoch 66/200\n",
      "177/177 [==============================] - 2s 13ms/step - loss: 24.2055 - mean_squared_error: 24.2055 - val_loss: 126.1227 - val_mean_squared_error: 126.1227\n",
      "Epoch 67/200\n",
      "177/177 [==============================] - 2s 13ms/step - loss: 19.8367 - mean_squared_error: 19.8367 - val_loss: 129.4795 - val_mean_squared_error: 129.4795\n",
      "Epoch 68/200\n",
      "177/177 [==============================] - 2s 12ms/step - loss: 23.8914 - mean_squared_error: 23.8914 - val_loss: 156.9520 - val_mean_squared_error: 156.9520\n",
      "Epoch 69/200\n",
      "177/177 [==============================] - 2s 12ms/step - loss: 22.9836 - mean_squared_error: 22.9836 - val_loss: 133.0699 - val_mean_squared_error: 133.0699\n",
      "Epoch 70/200\n",
      "177/177 [==============================] - 2s 12ms/step - loss: 21.0391 - mean_squared_error: 21.0391 - val_loss: 132.1087 - val_mean_squared_error: 132.1087\n",
      "Epoch 71/200\n",
      "177/177 [==============================] - 2s 12ms/step - loss: 24.3273 - mean_squared_error: 24.3273 - val_loss: 121.7857 - val_mean_squared_error: 121.7857\n",
      "Epoch 72/200\n",
      "177/177 [==============================] - 2s 13ms/step - loss: 23.4328 - mean_squared_error: 23.4328 - val_loss: 118.5825 - val_mean_squared_error: 118.5825\n",
      "Epoch 73/200\n",
      "177/177 [==============================] - 2s 12ms/step - loss: 21.4907 - mean_squared_error: 21.4907 - val_loss: 124.6500 - val_mean_squared_error: 124.6500\n",
      "Epoch 74/200\n",
      "177/177 [==============================] - 2s 12ms/step - loss: 20.9673 - mean_squared_error: 20.9673 - val_loss: 134.7931 - val_mean_squared_error: 134.7931\n",
      "Epoch 75/200\n",
      "177/177 [==============================] - 2s 12ms/step - loss: 22.0048 - mean_squared_error: 22.0048 - val_loss: 131.0361 - val_mean_squared_error: 131.0361\n",
      "Epoch 76/200\n",
      "177/177 [==============================] - 2s 12ms/step - loss: 21.0460 - mean_squared_error: 21.0460 - val_loss: 125.2851 - val_mean_squared_error: 125.2851\n",
      "Epoch 77/200\n",
      "177/177 [==============================] - 2s 13ms/step - loss: 22.8322 - mean_squared_error: 22.8322 - val_loss: 134.5051 - val_mean_squared_error: 134.5051\n",
      "Epoch 78/200\n",
      "177/177 [==============================] - 2s 12ms/step - loss: 24.5163 - mean_squared_error: 24.5163 - val_loss: 139.6494 - val_mean_squared_error: 139.6494\n",
      "Epoch 79/200\n",
      "177/177 [==============================] - 2s 12ms/step - loss: 22.4892 - mean_squared_error: 22.4892 - val_loss: 140.8280 - val_mean_squared_error: 140.8280\n",
      "Epoch 80/200\n",
      "177/177 [==============================] - 2s 13ms/step - loss: 22.4982 - mean_squared_error: 22.4982 - val_loss: 129.5253 - val_mean_squared_error: 129.5253\n",
      "Epoch 81/200\n",
      "177/177 [==============================] - 2s 13ms/step - loss: 21.3545 - mean_squared_error: 21.3545 - val_loss: 130.1858 - val_mean_squared_error: 130.1858\n",
      "Epoch 82/200\n",
      "177/177 [==============================] - 2s 13ms/step - loss: 20.5421 - mean_squared_error: 20.5421 - val_loss: 128.2250 - val_mean_squared_error: 128.2250\n",
      "Epoch 83/200\n",
      "177/177 [==============================] - 2s 12ms/step - loss: 20.7593 - mean_squared_error: 20.7593 - val_loss: 133.7311 - val_mean_squared_error: 133.7311\n",
      "Epoch 84/200\n",
      "177/177 [==============================] - 2s 12ms/step - loss: 25.5774 - mean_squared_error: 25.5774 - val_loss: 131.9770 - val_mean_squared_error: 131.9770\n",
      "Epoch 85/200\n",
      "177/177 [==============================] - 2s 12ms/step - loss: 20.1610 - mean_squared_error: 20.1610 - val_loss: 130.7628 - val_mean_squared_error: 130.7628\n",
      "Epoch 86/200\n",
      "177/177 [==============================] - 2s 12ms/step - loss: 19.9215 - mean_squared_error: 19.9215 - val_loss: 129.0174 - val_mean_squared_error: 129.0174\n",
      "Epoch 87/200\n",
      "177/177 [==============================] - 2s 13ms/step - loss: 20.9983 - mean_squared_error: 20.9983 - val_loss: 127.6226 - val_mean_squared_error: 127.6226\n",
      "Epoch 88/200\n",
      "177/177 [==============================] - 2s 12ms/step - loss: 19.6944 - mean_squared_error: 19.6944 - val_loss: 133.4313 - val_mean_squared_error: 133.4313\n",
      "Epoch 89/200\n",
      "177/177 [==============================] - 2s 12ms/step - loss: 18.6108 - mean_squared_error: 18.6108 - val_loss: 126.4458 - val_mean_squared_error: 126.4458\n",
      "Epoch 90/200\n",
      "177/177 [==============================] - 2s 12ms/step - loss: 20.2734 - mean_squared_error: 20.2734 - val_loss: 131.6764 - val_mean_squared_error: 131.6764\n",
      "Epoch 91/200\n",
      "177/177 [==============================] - 2s 12ms/step - loss: 21.5127 - mean_squared_error: 21.5127 - val_loss: 138.7075 - val_mean_squared_error: 138.7075\n",
      "Epoch 92/200\n",
      "177/177 [==============================] - 2s 13ms/step - loss: 18.2748 - mean_squared_error: 18.2748 - val_loss: 122.3626 - val_mean_squared_error: 122.3626\n",
      "Epoch 93/200\n",
      "177/177 [==============================] - 2s 12ms/step - loss: 21.4733 - mean_squared_error: 21.4733 - val_loss: 148.5226 - val_mean_squared_error: 148.5226\n",
      "Epoch 94/200\n",
      "177/177 [==============================] - 2s 12ms/step - loss: 20.9378 - mean_squared_error: 20.9378 - val_loss: 125.5802 - val_mean_squared_error: 125.5802\n",
      "Epoch 95/200\n",
      "177/177 [==============================] - 2s 13ms/step - loss: 22.8031 - mean_squared_error: 22.8031 - val_loss: 123.8372 - val_mean_squared_error: 123.8372\n",
      "Epoch 96/200\n",
      "177/177 [==============================] - 2s 13ms/step - loss: 18.5388 - mean_squared_error: 18.5388 - val_loss: 122.6540 - val_mean_squared_error: 122.6540\n",
      "Epoch 97/200\n",
      "177/177 [==============================] - 2s 13ms/step - loss: 17.7892 - mean_squared_error: 17.7892 - val_loss: 130.9745 - val_mean_squared_error: 130.9745\n",
      "Epoch 98/200\n",
      "177/177 [==============================] - 2s 12ms/step - loss: 21.8334 - mean_squared_error: 21.8334 - val_loss: 134.1724 - val_mean_squared_error: 134.1724\n",
      "Epoch 99/200\n",
      "177/177 [==============================] - 2s 12ms/step - loss: 20.9148 - mean_squared_error: 20.9148 - val_loss: 125.1635 - val_mean_squared_error: 125.1635\n",
      "Epoch 100/200\n",
      "177/177 [==============================] - 2s 12ms/step - loss: 18.0060 - mean_squared_error: 18.0060 - val_loss: 123.6986 - val_mean_squared_error: 123.6986\n",
      "Epoch 101/200\n",
      "177/177 [==============================] - 2s 12ms/step - loss: 17.3752 - mean_squared_error: 17.3752 - val_loss: 122.3954 - val_mean_squared_error: 122.3954\n",
      "Epoch 102/200\n",
      "177/177 [==============================] - 2s 13ms/step - loss: 19.8289 - mean_squared_error: 19.8289 - val_loss: 122.1313 - val_mean_squared_error: 122.1313\n",
      "Epoch 103/200\n",
      "177/177 [==============================] - 2s 12ms/step - loss: 19.8765 - mean_squared_error: 19.8765 - val_loss: 127.6577 - val_mean_squared_error: 127.6577\n",
      "Epoch 104/200\n",
      "177/177 [==============================] - 2s 12ms/step - loss: 18.8381 - mean_squared_error: 18.8381 - val_loss: 128.9337 - val_mean_squared_error: 128.9337\n",
      "Epoch 105/200\n",
      "177/177 [==============================] - 2s 12ms/step - loss: 28.1388 - mean_squared_error: 28.1388 - val_loss: 129.1278 - val_mean_squared_error: 129.1278\n",
      "Epoch 106/200\n",
      "177/177 [==============================] - 2s 12ms/step - loss: 22.0755 - mean_squared_error: 22.0755 - val_loss: 125.6801 - val_mean_squared_error: 125.6801\n",
      "Epoch 107/200\n",
      "177/177 [==============================] - 2s 13ms/step - loss: 21.8226 - mean_squared_error: 21.8226 - val_loss: 121.0187 - val_mean_squared_error: 121.0187\n",
      "Epoch 108/200\n",
      "177/177 [==============================] - 2s 12ms/step - loss: 20.6292 - mean_squared_error: 20.6292 - val_loss: 142.5859 - val_mean_squared_error: 142.5859\n",
      "Epoch 109/200\n",
      "177/177 [==============================] - 2s 12ms/step - loss: 21.0621 - mean_squared_error: 21.0621 - val_loss: 126.9086 - val_mean_squared_error: 126.9086\n",
      "Epoch 110/200\n",
      "177/177 [==============================] - 2s 13ms/step - loss: 17.2759 - mean_squared_error: 17.2759 - val_loss: 134.0416 - val_mean_squared_error: 134.0416\n",
      "Epoch 111/200\n",
      "177/177 [==============================] - 2s 13ms/step - loss: 19.5645 - mean_squared_error: 19.5645 - val_loss: 135.2776 - val_mean_squared_error: 135.2776\n",
      "Epoch 112/200\n",
      "177/177 [==============================] - 2s 13ms/step - loss: 17.6030 - mean_squared_error: 17.6030 - val_loss: 127.9728 - val_mean_squared_error: 127.9728\n",
      "Epoch 113/200\n",
      "177/177 [==============================] - 2s 12ms/step - loss: 19.5712 - mean_squared_error: 19.5712 - val_loss: 134.7308 - val_mean_squared_error: 134.7308\n",
      "Epoch 114/200\n",
      "177/177 [==============================] - 2s 12ms/step - loss: 16.9964 - mean_squared_error: 16.9964 - val_loss: 125.2515 - val_mean_squared_error: 125.2515\n",
      "Epoch 115/200\n",
      "177/177 [==============================] - 2s 12ms/step - loss: 18.1751 - mean_squared_error: 18.1751 - val_loss: 134.8511 - val_mean_squared_error: 134.8511\n",
      "Epoch 116/200\n",
      "177/177 [==============================] - 2s 12ms/step - loss: 17.3960 - mean_squared_error: 17.3960 - val_loss: 127.1894 - val_mean_squared_error: 127.1894\n",
      "Epoch 117/200\n",
      "177/177 [==============================] - 2s 13ms/step - loss: 18.0914 - mean_squared_error: 18.0914 - val_loss: 128.1944 - val_mean_squared_error: 128.1944\n",
      "Epoch 118/200\n",
      "177/177 [==============================] - 2s 12ms/step - loss: 22.7400 - mean_squared_error: 22.7400 - val_loss: 131.4672 - val_mean_squared_error: 131.4672\n",
      "Epoch 119/200\n",
      "177/177 [==============================] - 2s 12ms/step - loss: 18.7226 - mean_squared_error: 18.7226 - val_loss: 121.2087 - val_mean_squared_error: 121.2087\n",
      "Epoch 120/200\n",
      "177/177 [==============================] - 2s 12ms/step - loss: 19.2547 - mean_squared_error: 19.2547 - val_loss: 123.8801 - val_mean_squared_error: 123.8801\n",
      "Epoch 121/200\n",
      "177/177 [==============================] - 2s 12ms/step - loss: 17.8920 - mean_squared_error: 17.8920 - val_loss: 130.8124 - val_mean_squared_error: 130.8124\n",
      "Epoch 122/200\n",
      "177/177 [==============================] - 2s 13ms/step - loss: 19.4854 - mean_squared_error: 19.4854 - val_loss: 125.7045 - val_mean_squared_error: 125.7045\n",
      "Epoch 123/200\n",
      "177/177 [==============================] - 2s 12ms/step - loss: 17.5183 - mean_squared_error: 17.5183 - val_loss: 123.9704 - val_mean_squared_error: 123.9704\n",
      "Epoch 124/200\n",
      "177/177 [==============================] - 2s 12ms/step - loss: 14.9750 - mean_squared_error: 14.9750 - val_loss: 125.3179 - val_mean_squared_error: 125.3179\n",
      "Epoch 125/200\n",
      "177/177 [==============================] - 2s 13ms/step - loss: 19.3418 - mean_squared_error: 19.3418 - val_loss: 123.2160 - val_mean_squared_error: 123.2160\n",
      "Epoch 126/200\n",
      "177/177 [==============================] - 2s 13ms/step - loss: 16.5906 - mean_squared_error: 16.5906 - val_loss: 131.2883 - val_mean_squared_error: 131.2883\n",
      "Epoch 127/200\n",
      "177/177 [==============================] - 2s 13ms/step - loss: 17.9970 - mean_squared_error: 17.9970 - val_loss: 125.6497 - val_mean_squared_error: 125.6497\n",
      "Epoch 128/200\n",
      "177/177 [==============================] - 2s 12ms/step - loss: 18.2325 - mean_squared_error: 18.2325 - val_loss: 127.8852 - val_mean_squared_error: 127.8852\n",
      "Epoch 129/200\n",
      "177/177 [==============================] - 2s 12ms/step - loss: 17.0646 - mean_squared_error: 17.0646 - val_loss: 128.1123 - val_mean_squared_error: 128.1123\n",
      "Epoch 130/200\n",
      "177/177 [==============================] - 2s 12ms/step - loss: 15.1343 - mean_squared_error: 15.1343 - val_loss: 126.0678 - val_mean_squared_error: 126.0678\n",
      "Epoch 131/200\n",
      "177/177 [==============================] - 2s 12ms/step - loss: 18.6833 - mean_squared_error: 18.6833 - val_loss: 120.6835 - val_mean_squared_error: 120.6835\n",
      "Epoch 132/200\n",
      "177/177 [==============================] - 2s 13ms/step - loss: 15.4125 - mean_squared_error: 15.4125 - val_loss: 136.0774 - val_mean_squared_error: 136.0774\n",
      "Epoch 133/200\n",
      "177/177 [==============================] - 2s 12ms/step - loss: 21.0932 - mean_squared_error: 21.0932 - val_loss: 124.1082 - val_mean_squared_error: 124.1082\n",
      "Epoch 134/200\n",
      "177/177 [==============================] - 2s 12ms/step - loss: 17.4097 - mean_squared_error: 17.4097 - val_loss: 119.9628 - val_mean_squared_error: 119.9628\n",
      "Epoch 135/200\n",
      "177/177 [==============================] - 2s 12ms/step - loss: 16.1634 - mean_squared_error: 16.1634 - val_loss: 125.5767 - val_mean_squared_error: 125.5767\n",
      "Epoch 136/200\n",
      "177/177 [==============================] - 2s 12ms/step - loss: 15.0974 - mean_squared_error: 15.0974 - val_loss: 121.7262 - val_mean_squared_error: 121.7262\n",
      "Epoch 137/200\n",
      "177/177 [==============================] - 2s 13ms/step - loss: 15.6089 - mean_squared_error: 15.6089 - val_loss: 127.1742 - val_mean_squared_error: 127.1742\n",
      "Epoch 138/200\n",
      "177/177 [==============================] - 2s 12ms/step - loss: 18.5191 - mean_squared_error: 18.5191 - val_loss: 130.1146 - val_mean_squared_error: 130.1146\n",
      "Epoch 139/200\n",
      "177/177 [==============================] - 2s 12ms/step - loss: 14.8646 - mean_squared_error: 14.8646 - val_loss: 118.5874 - val_mean_squared_error: 118.5874\n",
      "Epoch 140/200\n",
      "177/177 [==============================] - 2s 13ms/step - loss: 17.3546 - mean_squared_error: 17.3546 - val_loss: 131.0260 - val_mean_squared_error: 131.0260\n",
      "Epoch 141/200\n",
      "177/177 [==============================] - 2s 13ms/step - loss: 19.6704 - mean_squared_error: 19.6704 - val_loss: 134.2735 - val_mean_squared_error: 134.2735\n",
      "Epoch 142/200\n",
      "177/177 [==============================] - 2s 13ms/step - loss: 14.8424 - mean_squared_error: 14.8424 - val_loss: 122.7015 - val_mean_squared_error: 122.7015\n",
      "Epoch 143/200\n",
      "177/177 [==============================] - 2s 12ms/step - loss: 15.0807 - mean_squared_error: 15.0807 - val_loss: 132.3376 - val_mean_squared_error: 132.3376\n",
      "Epoch 144/200\n",
      "177/177 [==============================] - 2s 12ms/step - loss: 15.2840 - mean_squared_error: 15.2840 - val_loss: 122.7873 - val_mean_squared_error: 122.7873\n",
      "Epoch 145/200\n",
      "177/177 [==============================] - 2s 12ms/step - loss: 15.7282 - mean_squared_error: 15.7282 - val_loss: 124.2369 - val_mean_squared_error: 124.2369\n",
      "Epoch 146/200\n",
      "177/177 [==============================] - 2s 12ms/step - loss: 15.4602 - mean_squared_error: 15.4602 - val_loss: 126.7558 - val_mean_squared_error: 126.7558\n",
      "Epoch 147/200\n",
      "177/177 [==============================] - 2s 13ms/step - loss: 15.8653 - mean_squared_error: 15.8653 - val_loss: 119.9109 - val_mean_squared_error: 119.9109\n",
      "Epoch 148/200\n",
      "177/177 [==============================] - 2s 12ms/step - loss: 15.0181 - mean_squared_error: 15.0181 - val_loss: 131.4380 - val_mean_squared_error: 131.4380\n",
      "Epoch 149/200\n",
      "177/177 [==============================] - 2s 12ms/step - loss: 16.0435 - mean_squared_error: 16.0435 - val_loss: 125.8995 - val_mean_squared_error: 125.8995\n",
      "Epoch 150/200\n",
      "177/177 [==============================] - 2s 12ms/step - loss: 14.8307 - mean_squared_error: 14.8307 - val_loss: 127.1720 - val_mean_squared_error: 127.1720\n",
      "Epoch 151/200\n",
      "177/177 [==============================] - 2s 12ms/step - loss: 14.2874 - mean_squared_error: 14.2874 - val_loss: 124.7385 - val_mean_squared_error: 124.7385\n",
      "Epoch 152/200\n",
      "177/177 [==============================] - 2s 13ms/step - loss: 14.6345 - mean_squared_error: 14.6345 - val_loss: 132.5981 - val_mean_squared_error: 132.5981\n",
      "Epoch 153/200\n",
      "177/177 [==============================] - 2s 12ms/step - loss: 14.3282 - mean_squared_error: 14.3282 - val_loss: 127.9639 - val_mean_squared_error: 127.9639\n",
      "Epoch 154/200\n",
      "177/177 [==============================] - 2s 12ms/step - loss: 15.3470 - mean_squared_error: 15.3470 - val_loss: 131.1451 - val_mean_squared_error: 131.1451\n",
      "Epoch 155/200\n",
      "177/177 [==============================] - 2s 13ms/step - loss: 15.7198 - mean_squared_error: 15.7198 - val_loss: 131.6801 - val_mean_squared_error: 131.6801\n",
      "Epoch 156/200\n",
      "177/177 [==============================] - 2s 13ms/step - loss: 14.5224 - mean_squared_error: 14.5224 - val_loss: 136.5033 - val_mean_squared_error: 136.5033\n",
      "Epoch 157/200\n",
      "177/177 [==============================] - 2s 13ms/step - loss: 15.7216 - mean_squared_error: 15.7216 - val_loss: 133.2206 - val_mean_squared_error: 133.2206\n",
      "Epoch 158/200\n",
      "177/177 [==============================] - 2s 12ms/step - loss: 16.5470 - mean_squared_error: 16.5470 - val_loss: 133.2674 - val_mean_squared_error: 133.2674\n",
      "Epoch 159/200\n",
      "177/177 [==============================] - 2s 12ms/step - loss: 15.6461 - mean_squared_error: 15.6461 - val_loss: 133.9372 - val_mean_squared_error: 133.9372\n",
      "Epoch 160/200\n",
      "177/177 [==============================] - 2s 12ms/step - loss: 14.5434 - mean_squared_error: 14.5434 - val_loss: 130.1777 - val_mean_squared_error: 130.1777\n",
      "Epoch 161/200\n",
      "177/177 [==============================] - 2s 12ms/step - loss: 17.0312 - mean_squared_error: 17.0312 - val_loss: 136.4898 - val_mean_squared_error: 136.4898\n",
      "Epoch 162/200\n",
      "177/177 [==============================] - 2s 13ms/step - loss: 18.0232 - mean_squared_error: 18.0232 - val_loss: 130.1882 - val_mean_squared_error: 130.1882\n",
      "Epoch 163/200\n",
      "177/177 [==============================] - 2s 12ms/step - loss: 15.6363 - mean_squared_error: 15.6363 - val_loss: 126.2245 - val_mean_squared_error: 126.2245\n",
      "Epoch 164/200\n",
      "177/177 [==============================] - 2s 12ms/step - loss: 15.6121 - mean_squared_error: 15.6121 - val_loss: 124.2863 - val_mean_squared_error: 124.2863\n",
      "Epoch 165/200\n",
      "177/177 [==============================] - 2s 12ms/step - loss: 15.1391 - mean_squared_error: 15.1391 - val_loss: 125.4740 - val_mean_squared_error: 125.4740\n",
      "Epoch 166/200\n",
      "177/177 [==============================] - 2s 12ms/step - loss: 16.3148 - mean_squared_error: 16.3148 - val_loss: 122.3282 - val_mean_squared_error: 122.3282\n",
      "Epoch 167/200\n",
      "177/177 [==============================] - 2s 13ms/step - loss: 13.8813 - mean_squared_error: 13.8813 - val_loss: 131.6985 - val_mean_squared_error: 131.6985\n",
      "Epoch 168/200\n",
      "177/177 [==============================] - 2s 12ms/step - loss: 14.4717 - mean_squared_error: 14.4717 - val_loss: 131.9971 - val_mean_squared_error: 131.9971\n",
      "Epoch 169/200\n",
      "177/177 [==============================] - 2s 12ms/step - loss: 15.3639 - mean_squared_error: 15.3639 - val_loss: 125.8532 - val_mean_squared_error: 125.8532\n",
      "Epoch 170/200\n",
      "177/177 [==============================] - 2s 13ms/step - loss: 13.9974 - mean_squared_error: 13.9974 - val_loss: 129.2343 - val_mean_squared_error: 129.2343\n",
      "Epoch 171/200\n",
      "177/177 [==============================] - 2s 13ms/step - loss: 15.1579 - mean_squared_error: 15.1579 - val_loss: 125.5854 - val_mean_squared_error: 125.5854\n",
      "Epoch 172/200\n",
      "177/177 [==============================] - 2s 13ms/step - loss: 15.6812 - mean_squared_error: 15.6812 - val_loss: 131.9845 - val_mean_squared_error: 131.9845\n",
      "Epoch 173/200\n",
      "177/177 [==============================] - 2s 12ms/step - loss: 14.1451 - mean_squared_error: 14.1451 - val_loss: 121.9781 - val_mean_squared_error: 121.9781\n",
      "Epoch 174/200\n",
      "177/177 [==============================] - 2s 12ms/step - loss: 14.5773 - mean_squared_error: 14.5773 - val_loss: 122.1481 - val_mean_squared_error: 122.1481\n",
      "Epoch 175/200\n",
      "177/177 [==============================] - 2s 12ms/step - loss: 14.3118 - mean_squared_error: 14.3118 - val_loss: 126.2982 - val_mean_squared_error: 126.2982\n",
      "Epoch 176/200\n",
      "177/177 [==============================] - 2s 12ms/step - loss: 14.5066 - mean_squared_error: 14.5066 - val_loss: 120.8685 - val_mean_squared_error: 120.8685\n",
      "Epoch 177/200\n",
      "177/177 [==============================] - 2s 13ms/step - loss: 14.7553 - mean_squared_error: 14.7553 - val_loss: 117.3755 - val_mean_squared_error: 117.3755\n",
      "Epoch 178/200\n",
      "177/177 [==============================] - 2s 12ms/step - loss: 15.3869 - mean_squared_error: 15.3869 - val_loss: 129.7699 - val_mean_squared_error: 129.7699\n",
      "Epoch 179/200\n",
      "177/177 [==============================] - 2s 12ms/step - loss: 14.9958 - mean_squared_error: 14.9958 - val_loss: 126.7313 - val_mean_squared_error: 126.7313\n",
      "Epoch 180/200\n",
      "177/177 [==============================] - 2s 12ms/step - loss: 15.2194 - mean_squared_error: 15.2194 - val_loss: 133.0825 - val_mean_squared_error: 133.0825\n",
      "Epoch 181/200\n",
      "177/177 [==============================] - 2s 12ms/step - loss: 17.0961 - mean_squared_error: 17.0961 - val_loss: 124.4726 - val_mean_squared_error: 124.4726\n",
      "Epoch 182/200\n",
      "177/177 [==============================] - 2s 13ms/step - loss: 15.6718 - mean_squared_error: 15.6718 - val_loss: 121.4519 - val_mean_squared_error: 121.4519\n",
      "Epoch 183/200\n",
      "177/177 [==============================] - 2s 12ms/step - loss: 15.3448 - mean_squared_error: 15.3448 - val_loss: 130.1900 - val_mean_squared_error: 130.1900\n",
      "Epoch 184/200\n",
      "177/177 [==============================] - 2s 12ms/step - loss: 12.9883 - mean_squared_error: 12.9883 - val_loss: 121.9017 - val_mean_squared_error: 121.9017\n",
      "Epoch 185/200\n",
      "177/177 [==============================] - 2s 13ms/step - loss: 14.7170 - mean_squared_error: 14.7170 - val_loss: 126.1083 - val_mean_squared_error: 126.1083\n",
      "Epoch 186/200\n",
      "177/177 [==============================] - 2s 12ms/step - loss: 14.0504 - mean_squared_error: 14.0504 - val_loss: 123.0132 - val_mean_squared_error: 123.0132\n",
      "Epoch 187/200\n",
      "177/177 [==============================] - 2s 13ms/step - loss: 14.7413 - mean_squared_error: 14.7413 - val_loss: 130.1243 - val_mean_squared_error: 130.1243\n",
      "Epoch 188/200\n",
      "177/177 [==============================] - 2s 12ms/step - loss: 13.9384 - mean_squared_error: 13.9384 - val_loss: 126.0720 - val_mean_squared_error: 126.0720\n",
      "Epoch 189/200\n",
      "177/177 [==============================] - 2s 12ms/step - loss: 12.1282 - mean_squared_error: 12.1282 - val_loss: 127.0212 - val_mean_squared_error: 127.0212\n",
      "Epoch 190/200\n",
      "177/177 [==============================] - 2s 12ms/step - loss: 13.0644 - mean_squared_error: 13.0644 - val_loss: 134.4729 - val_mean_squared_error: 134.4729\n",
      "Epoch 191/200\n",
      "177/177 [==============================] - 2s 12ms/step - loss: 14.6805 - mean_squared_error: 14.6805 - val_loss: 142.8281 - val_mean_squared_error: 142.8281\n",
      "Epoch 192/200\n",
      "177/177 [==============================] - 2s 13ms/step - loss: 14.4914 - mean_squared_error: 14.4914 - val_loss: 125.0942 - val_mean_squared_error: 125.0942\n",
      "Epoch 193/200\n",
      "177/177 [==============================] - 2s 12ms/step - loss: 13.2693 - mean_squared_error: 13.2693 - val_loss: 137.1992 - val_mean_squared_error: 137.1992\n",
      "Epoch 194/200\n",
      "177/177 [==============================] - 2s 12ms/step - loss: 13.7754 - mean_squared_error: 13.7754 - val_loss: 122.1879 - val_mean_squared_error: 122.1879\n",
      "Epoch 195/200\n",
      "177/177 [==============================] - 2s 12ms/step - loss: 16.4795 - mean_squared_error: 16.4795 - val_loss: 125.5879 - val_mean_squared_error: 125.5879\n",
      "Epoch 196/200\n",
      "177/177 [==============================] - 2s 12ms/step - loss: 16.4661 - mean_squared_error: 16.4661 - val_loss: 126.7713 - val_mean_squared_error: 126.7713\n",
      "Epoch 197/200\n",
      "177/177 [==============================] - 2s 13ms/step - loss: 14.1374 - mean_squared_error: 14.1374 - val_loss: 123.3106 - val_mean_squared_error: 123.3106\n",
      "Epoch 198/200\n",
      "177/177 [==============================] - 2s 12ms/step - loss: 13.6450 - mean_squared_error: 13.6450 - val_loss: 133.5298 - val_mean_squared_error: 133.5298\n",
      "Epoch 199/200\n",
      "177/177 [==============================] - 2s 12ms/step - loss: 12.3194 - mean_squared_error: 12.3194 - val_loss: 120.6545 - val_mean_squared_error: 120.6545\n",
      "Epoch 200/200\n",
      "177/177 [==============================] - 2s 14ms/step - loss: 13.6410 - mean_squared_error: 13.6410 - val_loss: 117.1117 - val_mean_squared_error: 117.1117\n",
      "CPU times: user 7min 8s, sys: 24.6 s, total: 7min 32s\n",
      "Wall time: 7min 22s\n"
     ]
    }
   ],
   "source": [
    "%%time\n",
    "hist = model.fit(x_train, y_train,batch_size = batch_size, epochs = epochs, \n",
    "                 validation_data = (x_test, y_test), shuffle = True)"
   ]
  },
  {
   "cell_type": "code",
   "execution_count": 81,
   "metadata": {
    "execution": {
     "iopub.execute_input": "2021-10-06T07:52:18.154743Z",
     "iopub.status.busy": "2021-10-06T07:52:18.154461Z",
     "iopub.status.idle": "2021-10-06T07:52:18.351976Z",
     "shell.execute_reply": "2021-10-06T07:52:18.351188Z",
     "shell.execute_reply.started": "2021-10-06T07:52:18.154714Z"
    }
   },
   "outputs": [],
   "source": [
    "# Save model\n",
    "model.save(\"/kaggle/working/landmark.h5\")\n",
    "\n",
    "landmark_json = model.to_json()\n",
    "\n",
    "with open(\"/kaggle/working/landmark.json\", \"w\") as json_file:\n",
    "    json_file.write(landmark_json)"
   ]
  },
  {
   "cell_type": "code",
   "execution_count": 82,
   "metadata": {
    "execution": {
     "iopub.execute_input": "2021-10-06T07:52:18.448563Z",
     "iopub.status.busy": "2021-10-06T07:52:18.447767Z",
     "iopub.status.idle": "2021-10-06T07:52:18.748540Z",
     "shell.execute_reply": "2021-10-06T07:52:18.747516Z",
     "shell.execute_reply.started": "2021-10-06T07:52:18.448523Z"
    }
   },
   "outputs": [],
   "source": [
    "model = load_model('/kaggle/working/landmark.h5')"
   ]
  },
  {
   "cell_type": "code",
   "execution_count": 83,
   "metadata": {
    "execution": {
     "iopub.execute_input": "2021-10-06T07:52:18.776887Z",
     "iopub.status.busy": "2021-10-06T07:52:18.776564Z",
     "iopub.status.idle": "2021-10-06T07:52:19.039275Z",
     "shell.execute_reply": "2021-10-06T07:52:19.038469Z",
     "shell.execute_reply.started": "2021-10-06T07:52:18.776831Z"
    },
    "scrolled": true
   },
   "outputs": [
    {
     "data": {
      "image/png": "[encoded data removed]",
      "text/plain": [
       "<Figure size 432x288 with 1 Axes>"
      ]
     },
     "metadata": {
      "needs_background": "light"
     },
     "output_type": "display_data"
    }
   ],
   "source": [
    "plt.plot(hist.history['loss'][3:50])\n",
    "plt.plot(hist.history['val_loss'][3:50])\n",
    "plt.title('model loss')\n",
    "plt.ylabel('loss')\n",
    "plt.xlabel('epoch')\n",
    "plt.legend(['train', 'val'], loc='upper left')\n",
    "plt.show()"
   ]
  },
  {
   "cell_type": "markdown",
   "metadata": {},
   "source": [
    "## 4. Prediction"
   ]
  },
  {
   "cell_type": "code",
   "execution_count": 84,
   "metadata": {
    "execution": {
     "iopub.execute_input": "2021-10-06T07:52:23.016719Z",
     "iopub.status.busy": "2021-10-06T07:52:23.016425Z",
     "iopub.status.idle": "2021-10-06T07:52:23.326805Z",
     "shell.execute_reply": "2021-10-06T07:52:23.325948Z",
     "shell.execute_reply.started": "2021-10-06T07:52:23.016688Z"
    }
   },
   "outputs": [],
   "source": [
    "pred = model.predict(x_test)"
   ]
  },
  {
   "cell_type": "code",
   "execution_count": 85,
   "metadata": {
    "execution": {
     "iopub.execute_input": "2021-10-06T07:52:31.975640Z",
     "iopub.status.busy": "2021-10-06T07:52:31.975337Z",
     "iopub.status.idle": "2021-10-06T07:52:32.158580Z",
     "shell.execute_reply": "2021-10-06T07:52:32.157779Z",
     "shell.execute_reply.started": "2021-10-06T07:52:31.975606Z"
    },
    "scrolled": true
   },
   "outputs": [
    {
     "data": {
      "image/png": "[encoded data removed]",
      "text/plain": [
       "<Figure size 432x288 with 1 Axes>"
      ]
     },
     "metadata": {
      "needs_background": "light"
     },
     "output_type": "display_data"
    }
   ],
   "source": [
    "index = 100\n",
    "pred_pt = np.array(y_test)[index]\n",
    "\n",
    "plt.imshow(x_test[index,:,:,:], cmap='gray')\n",
    "plt.scatter(pred_pt[0:-1:2], pred_pt[1::2], c='r')\n",
    "plt.scatter(pred[index,:][0:-1:2],pred[index,:][1::2],c='b')\n",
    "plt.axis('off')\n",
    "plt.show()"
   ]
  },
  {
   "cell_type": "markdown",
   "metadata": {},
   "source": [
    "### References\n",
    "[1] Facial Landmark, https://www.kaggle.com/satyaprakash13820/facial-landmark"
   ]
  }
 ],
 "metadata": {
  "kernelspec": {
   "display_name": "Python 3",
   "language": "python",
   "name": "python3"
  },
  "language_info": {
   "codemirror_mode": {
    "name": "ipython",
    "version": 3
   },
   "file_extension": ".py",
   "mimetype": "text/x-python",
   "name": "python",
   "nbconvert_exporter": "python",
   "pygments_lexer": "ipython3",
   "version": "3.8.5"
  }
 },
 "nbformat": 4,
 "nbformat_minor": 4
}
